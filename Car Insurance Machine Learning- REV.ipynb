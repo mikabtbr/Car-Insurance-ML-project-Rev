{
 "cells": [
  {
   "cell_type": "markdown",
   "metadata": {
    "ExecuteTime": {
     "end_time": "2020-11-09T21:29:41.152230Z",
     "start_time": "2020-11-09T21:29:41.148240Z"
    }
   },
   "source": [
    "# MACHINE LEARNING MODELLING"
   ]
  },
  {
   "cell_type": "markdown",
   "metadata": {},
   "source": [
    "- **this modelling purposes is to find the highest recall score**\n",
    "- **to reduce the type of error of machine which predicted not interested but actual interested.**"
   ]
  },
  {
   "cell_type": "code",
   "execution_count": 1,
   "metadata": {
    "ExecuteTime": {
     "end_time": "2020-11-09T21:26:36.391101Z",
     "start_time": "2020-11-09T21:26:29.402784Z"
    }
   },
   "outputs": [],
   "source": [
    "import pandas as pd\n",
    "import numpy as np\n",
    "import seaborn as sns\n",
    "import matplotlib.pyplot as plt\n",
    "import warnings\n",
    "warnings.filterwarnings('ignore')\n",
    "%matplotlib inline\n",
    "plt.rcParams['figure.figsize'] = (8,6)\n",
    "\n",
    "from sklearn import set_config\n",
    "set_config(print_changed_only=False)\n",
    "\n",
    "\n",
    "\n",
    "\n",
    "from sklearn.linear_model import LogisticRegression\n",
    "from sklearn.ensemble import RandomForestClassifier\n",
    "from xgboost import XGBClassifier\n",
    "from sklearn.neighbors import KNeighborsClassifier\n",
    "from sklearn.tree import DecisionTreeClassifier\n",
    "from sklearn.svm import SVC\n",
    "from sklearn.model_selection import train_test_split,GridSearchCV,RandomizedSearchCV\n",
    "from sklearn.metrics import classification_report, confusion_matrix, recall_score, precision_score,f1_score,accuracy_score"
   ]
  },
  {
   "cell_type": "code",
   "execution_count": 2,
   "metadata": {
    "ExecuteTime": {
     "end_time": "2020-11-09T21:26:39.618474Z",
     "start_time": "2020-11-09T21:26:39.585564Z"
    }
   },
   "outputs": [],
   "source": [
    "df = pd.read_csv('insurance_cleaned.csv',index_col=0)"
   ]
  },
  {
   "cell_type": "code",
   "execution_count": 3,
   "metadata": {
    "ExecuteTime": {
     "end_time": "2020-11-09T21:26:42.285346Z",
     "start_time": "2020-11-09T21:26:42.252436Z"
    }
   },
   "outputs": [
    {
     "data": {
      "text/html": [
       "<div>\n",
       "<style scoped>\n",
       "    .dataframe tbody tr th:only-of-type {\n",
       "        vertical-align: middle;\n",
       "    }\n",
       "\n",
       "    .dataframe tbody tr th {\n",
       "        vertical-align: top;\n",
       "    }\n",
       "\n",
       "    .dataframe thead th {\n",
       "        text-align: right;\n",
       "    }\n",
       "</style>\n",
       "<table border=\"1\" class=\"dataframe\">\n",
       "  <thead>\n",
       "    <tr style=\"text-align: right;\">\n",
       "      <th></th>\n",
       "      <th>Id</th>\n",
       "      <th>Marital</th>\n",
       "      <th>Education</th>\n",
       "      <th>Default</th>\n",
       "      <th>Balance</th>\n",
       "      <th>HHInsurance</th>\n",
       "      <th>CarLoan</th>\n",
       "      <th>Communication</th>\n",
       "      <th>NoOfContacts</th>\n",
       "      <th>DaysPassed</th>\n",
       "      <th>...</th>\n",
       "      <th>Job_blue-collar</th>\n",
       "      <th>Job_entrepreneur</th>\n",
       "      <th>Job_housemaid</th>\n",
       "      <th>Job_management</th>\n",
       "      <th>Job_retired</th>\n",
       "      <th>Job_self-employed</th>\n",
       "      <th>Job_services</th>\n",
       "      <th>Job_student</th>\n",
       "      <th>Job_technician</th>\n",
       "      <th>Job_unemployed</th>\n",
       "    </tr>\n",
       "  </thead>\n",
       "  <tbody>\n",
       "    <tr>\n",
       "      <th>0</th>\n",
       "      <td>1</td>\n",
       "      <td>0</td>\n",
       "      <td>3</td>\n",
       "      <td>0</td>\n",
       "      <td>0</td>\n",
       "      <td>1</td>\n",
       "      <td>0</td>\n",
       "      <td>0</td>\n",
       "      <td>2</td>\n",
       "      <td>0</td>\n",
       "      <td>...</td>\n",
       "      <td>0</td>\n",
       "      <td>0</td>\n",
       "      <td>0</td>\n",
       "      <td>1</td>\n",
       "      <td>0</td>\n",
       "      <td>0</td>\n",
       "      <td>0</td>\n",
       "      <td>0</td>\n",
       "      <td>0</td>\n",
       "      <td>0</td>\n",
       "    </tr>\n",
       "    <tr>\n",
       "      <th>1</th>\n",
       "      <td>2</td>\n",
       "      <td>1</td>\n",
       "      <td>2</td>\n",
       "      <td>0</td>\n",
       "      <td>0</td>\n",
       "      <td>1</td>\n",
       "      <td>0</td>\n",
       "      <td>1</td>\n",
       "      <td>5</td>\n",
       "      <td>0</td>\n",
       "      <td>...</td>\n",
       "      <td>1</td>\n",
       "      <td>0</td>\n",
       "      <td>0</td>\n",
       "      <td>0</td>\n",
       "      <td>0</td>\n",
       "      <td>0</td>\n",
       "      <td>0</td>\n",
       "      <td>0</td>\n",
       "      <td>0</td>\n",
       "      <td>0</td>\n",
       "    </tr>\n",
       "    <tr>\n",
       "      <th>2</th>\n",
       "      <td>3</td>\n",
       "      <td>0</td>\n",
       "      <td>3</td>\n",
       "      <td>0</td>\n",
       "      <td>0</td>\n",
       "      <td>1</td>\n",
       "      <td>0</td>\n",
       "      <td>1</td>\n",
       "      <td>1</td>\n",
       "      <td>0</td>\n",
       "      <td>...</td>\n",
       "      <td>0</td>\n",
       "      <td>0</td>\n",
       "      <td>0</td>\n",
       "      <td>1</td>\n",
       "      <td>0</td>\n",
       "      <td>0</td>\n",
       "      <td>0</td>\n",
       "      <td>0</td>\n",
       "      <td>0</td>\n",
       "      <td>0</td>\n",
       "    </tr>\n",
       "    <tr>\n",
       "      <th>3</th>\n",
       "      <td>4</td>\n",
       "      <td>0</td>\n",
       "      <td>2</td>\n",
       "      <td>0</td>\n",
       "      <td>0</td>\n",
       "      <td>1</td>\n",
       "      <td>0</td>\n",
       "      <td>1</td>\n",
       "      <td>2</td>\n",
       "      <td>0</td>\n",
       "      <td>...</td>\n",
       "      <td>0</td>\n",
       "      <td>0</td>\n",
       "      <td>0</td>\n",
       "      <td>0</td>\n",
       "      <td>0</td>\n",
       "      <td>0</td>\n",
       "      <td>0</td>\n",
       "      <td>1</td>\n",
       "      <td>0</td>\n",
       "      <td>0</td>\n",
       "    </tr>\n",
       "    <tr>\n",
       "      <th>4</th>\n",
       "      <td>5</td>\n",
       "      <td>1</td>\n",
       "      <td>3</td>\n",
       "      <td>0</td>\n",
       "      <td>1</td>\n",
       "      <td>0</td>\n",
       "      <td>0</td>\n",
       "      <td>1</td>\n",
       "      <td>1</td>\n",
       "      <td>0</td>\n",
       "      <td>...</td>\n",
       "      <td>0</td>\n",
       "      <td>0</td>\n",
       "      <td>0</td>\n",
       "      <td>1</td>\n",
       "      <td>0</td>\n",
       "      <td>0</td>\n",
       "      <td>0</td>\n",
       "      <td>0</td>\n",
       "      <td>0</td>\n",
       "      <td>0</td>\n",
       "    </tr>\n",
       "  </tbody>\n",
       "</table>\n",
       "<p>5 rows × 27 columns</p>\n",
       "</div>"
      ],
      "text/plain": [
       "   Id  Marital  Education  Default  Balance  HHInsurance  CarLoan  \\\n",
       "0   1        0          3        0        0            1        0   \n",
       "1   2        1          2        0        0            1        0   \n",
       "2   3        0          3        0        0            1        0   \n",
       "3   4        0          2        0        0            1        0   \n",
       "4   5        1          3        0        1            0        0   \n",
       "\n",
       "   Communication  NoOfContacts  DaysPassed  ...  Job_blue-collar  \\\n",
       "0              0             2           0  ...                0   \n",
       "1              1             5           0  ...                1   \n",
       "2              1             1           0  ...                0   \n",
       "3              1             2           0  ...                0   \n",
       "4              1             1           0  ...                0   \n",
       "\n",
       "   Job_entrepreneur  Job_housemaid  Job_management  Job_retired  \\\n",
       "0                 0              0               1            0   \n",
       "1                 0              0               0            0   \n",
       "2                 0              0               1            0   \n",
       "3                 0              0               0            0   \n",
       "4                 0              0               1            0   \n",
       "\n",
       "   Job_self-employed  Job_services  Job_student  Job_technician  \\\n",
       "0                  0             0            0               0   \n",
       "1                  0             0            0               0   \n",
       "2                  0             0            0               0   \n",
       "3                  0             0            1               0   \n",
       "4                  0             0            0               0   \n",
       "\n",
       "   Job_unemployed  \n",
       "0               0  \n",
       "1               0  \n",
       "2               0  \n",
       "3               0  \n",
       "4               0  \n",
       "\n",
       "[5 rows x 27 columns]"
      ]
     },
     "execution_count": 3,
     "metadata": {},
     "output_type": "execute_result"
    }
   ],
   "source": [
    "df.head()"
   ]
  },
  {
   "cell_type": "code",
   "execution_count": 4,
   "metadata": {
    "ExecuteTime": {
     "end_time": "2020-11-09T21:27:04.614660Z",
     "start_time": "2020-11-09T21:27:04.428157Z"
    }
   },
   "outputs": [
    {
     "data": {
      "text/html": [
       "<style  type=\"text/css\" >\n",
       "#T_5006e194_22d2_11eb_b917_8c1645d12c3brow0_col0{\n",
       "            background-color:  #0000ff;\n",
       "            color:  #f1f1f1;\n",
       "        }#T_5006e194_22d2_11eb_b917_8c1645d12c3brow1_col0{\n",
       "            background-color:  #8888f8;\n",
       "            color:  #000000;\n",
       "        }#T_5006e194_22d2_11eb_b917_8c1645d12c3brow2_col0{\n",
       "            background-color:  #bdbdf5;\n",
       "            color:  #000000;\n",
       "        }#T_5006e194_22d2_11eb_b917_8c1645d12c3brow3_col0{\n",
       "            background-color:  #c6c6f5;\n",
       "            color:  #000000;\n",
       "        }#T_5006e194_22d2_11eb_b917_8c1645d12c3brow4_col0,#T_5006e194_22d2_11eb_b917_8c1645d12c3brow5_col0{\n",
       "            background-color:  #d2d2f4;\n",
       "            color:  #000000;\n",
       "        }#T_5006e194_22d2_11eb_b917_8c1645d12c3brow6_col0{\n",
       "            background-color:  #d4d4f4;\n",
       "            color:  #000000;\n",
       "        }#T_5006e194_22d2_11eb_b917_8c1645d12c3brow7_col0{\n",
       "            background-color:  #d9d9f4;\n",
       "            color:  #000000;\n",
       "        }#T_5006e194_22d2_11eb_b917_8c1645d12c3brow8_col0{\n",
       "            background-color:  #dadaf4;\n",
       "            color:  #000000;\n",
       "        }#T_5006e194_22d2_11eb_b917_8c1645d12c3brow9_col0{\n",
       "            background-color:  #dcdcf4;\n",
       "            color:  #000000;\n",
       "        }#T_5006e194_22d2_11eb_b917_8c1645d12c3brow10_col0{\n",
       "            background-color:  #ddddf4;\n",
       "            color:  #000000;\n",
       "        }#T_5006e194_22d2_11eb_b917_8c1645d12c3brow11_col0{\n",
       "            background-color:  #dedff4;\n",
       "            color:  #000000;\n",
       "        }#T_5006e194_22d2_11eb_b917_8c1645d12c3brow12_col0{\n",
       "            background-color:  #e4e4f3;\n",
       "            color:  #000000;\n",
       "        }#T_5006e194_22d2_11eb_b917_8c1645d12c3brow13_col0,#T_5006e194_22d2_11eb_b917_8c1645d12c3brow14_col0{\n",
       "            background-color:  #e9e9f3;\n",
       "            color:  #000000;\n",
       "        }#T_5006e194_22d2_11eb_b917_8c1645d12c3brow15_col0{\n",
       "            background-color:  #ebebf3;\n",
       "            color:  #000000;\n",
       "        }#T_5006e194_22d2_11eb_b917_8c1645d12c3brow16_col0,#T_5006e194_22d2_11eb_b917_8c1645d12c3brow17_col0{\n",
       "            background-color:  #efeff3;\n",
       "            color:  #000000;\n",
       "        }#T_5006e194_22d2_11eb_b917_8c1645d12c3brow18_col0,#T_5006e194_22d2_11eb_b917_8c1645d12c3brow19_col0{\n",
       "            background-color:  #f0f0f3;\n",
       "            color:  #000000;\n",
       "        }</style><table id=\"T_5006e194_22d2_11eb_b917_8c1645d12c3b\" ><thead>    <tr>        <th class=\"blank level0\" ></th>        <th class=\"col_heading level0 col0\" >CarInsurance</th>    </tr></thead><tbody>\n",
       "                <tr>\n",
       "                        <th id=\"T_5006e194_22d2_11eb_b917_8c1645d12c3blevel0_row0\" class=\"row_heading level0 row0\" >CarInsurance</th>\n",
       "                        <td id=\"T_5006e194_22d2_11eb_b917_8c1645d12c3brow0_col0\" class=\"data row0 col0\" >1.000000</td>\n",
       "            </tr>\n",
       "            <tr>\n",
       "                        <th id=\"T_5006e194_22d2_11eb_b917_8c1645d12c3blevel0_row1\" class=\"row_heading level0 row1\" >duration_status</th>\n",
       "                        <td id=\"T_5006e194_22d2_11eb_b917_8c1645d12c3brow1_col0\" class=\"data row1 col0\" >0.417036</td>\n",
       "            </tr>\n",
       "            <tr>\n",
       "                        <th id=\"T_5006e194_22d2_11eb_b917_8c1645d12c3blevel0_row2\" class=\"row_heading level0 row2\" >Outcome</th>\n",
       "                        <td id=\"T_5006e194_22d2_11eb_b917_8c1645d12c3brow2_col0\" class=\"data row2 col0\" >0.189184</td>\n",
       "            </tr>\n",
       "            <tr>\n",
       "                        <th id=\"T_5006e194_22d2_11eb_b917_8c1645d12c3blevel0_row3\" class=\"row_heading level0 row3\" >PrevAttempts</th>\n",
       "                        <td id=\"T_5006e194_22d2_11eb_b917_8c1645d12c3brow3_col0\" class=\"data row3 col0\" >0.149010</td>\n",
       "            </tr>\n",
       "            <tr>\n",
       "                        <th id=\"T_5006e194_22d2_11eb_b917_8c1645d12c3blevel0_row4\" class=\"row_heading level0 row4\" >Job_retired</th>\n",
       "                        <td id=\"T_5006e194_22d2_11eb_b917_8c1645d12c3brow4_col0\" class=\"data row4 col0\" >0.097855</td>\n",
       "            </tr>\n",
       "            <tr>\n",
       "                        <th id=\"T_5006e194_22d2_11eb_b917_8c1645d12c3blevel0_row5\" class=\"row_heading level0 row5\" >Job_student</th>\n",
       "                        <td id=\"T_5006e194_22d2_11eb_b917_8c1645d12c3brow5_col0\" class=\"data row5 col0\" >0.097809</td>\n",
       "            </tr>\n",
       "            <tr>\n",
       "                        <th id=\"T_5006e194_22d2_11eb_b917_8c1645d12c3blevel0_row6\" class=\"row_heading level0 row6\" >DaysPassed</th>\n",
       "                        <td id=\"T_5006e194_22d2_11eb_b917_8c1645d12c3brow6_col0\" class=\"data row6 col0\" >0.089366</td>\n",
       "            </tr>\n",
       "            <tr>\n",
       "                        <th id=\"T_5006e194_22d2_11eb_b917_8c1645d12c3blevel0_row7\" class=\"row_heading level0 row7\" >Job_unemployed</th>\n",
       "                        <td id=\"T_5006e194_22d2_11eb_b917_8c1645d12c3brow7_col0\" class=\"data row7 col0\" >0.069130</td>\n",
       "            </tr>\n",
       "            <tr>\n",
       "                        <th id=\"T_5006e194_22d2_11eb_b917_8c1645d12c3blevel0_row8\" class=\"row_heading level0 row8\" >Education</th>\n",
       "                        <td id=\"T_5006e194_22d2_11eb_b917_8c1645d12c3brow8_col0\" class=\"data row8 col0\" >0.062102</td>\n",
       "            </tr>\n",
       "            <tr>\n",
       "                        <th id=\"T_5006e194_22d2_11eb_b917_8c1645d12c3blevel0_row9\" class=\"row_heading level0 row9\" >Balance</th>\n",
       "                        <td id=\"T_5006e194_22d2_11eb_b917_8c1645d12c3brow9_col0\" class=\"data row9 col0\" >0.056367</td>\n",
       "            </tr>\n",
       "            <tr>\n",
       "                        <th id=\"T_5006e194_22d2_11eb_b917_8c1645d12c3blevel0_row10\" class=\"row_heading level0 row10\" >Job_management</th>\n",
       "                        <td id=\"T_5006e194_22d2_11eb_b917_8c1645d12c3brow10_col0\" class=\"data row10 col0\" >0.051608</td>\n",
       "            </tr>\n",
       "            <tr>\n",
       "                        <th id=\"T_5006e194_22d2_11eb_b917_8c1645d12c3blevel0_row11\" class=\"row_heading level0 row11\" >Month</th>\n",
       "                        <td id=\"T_5006e194_22d2_11eb_b917_8c1645d12c3brow11_col0\" class=\"data row11 col0\" >0.045535</td>\n",
       "            </tr>\n",
       "            <tr>\n",
       "                        <th id=\"T_5006e194_22d2_11eb_b917_8c1645d12c3blevel0_row12\" class=\"row_heading level0 row12\" >age_group</th>\n",
       "                        <td id=\"T_5006e194_22d2_11eb_b917_8c1645d12c3brow12_col0\" class=\"data row12 col0\" >0.019754</td>\n",
       "            </tr>\n",
       "            <tr>\n",
       "                        <th id=\"T_5006e194_22d2_11eb_b917_8c1645d12c3blevel0_row13\" class=\"row_heading level0 row13\" >Job_admin.</th>\n",
       "                        <td id=\"T_5006e194_22d2_11eb_b917_8c1645d12c3brow13_col0\" class=\"data row13 col0\" >-0.001624</td>\n",
       "            </tr>\n",
       "            <tr>\n",
       "                        <th id=\"T_5006e194_22d2_11eb_b917_8c1645d12c3blevel0_row14\" class=\"row_heading level0 row14\" >Default</th>\n",
       "                        <td id=\"T_5006e194_22d2_11eb_b917_8c1645d12c3brow14_col0\" class=\"data row14 col0\" >-0.002259</td>\n",
       "            </tr>\n",
       "            <tr>\n",
       "                        <th id=\"T_5006e194_22d2_11eb_b917_8c1645d12c3blevel0_row15\" class=\"row_heading level0 row15\" >Job_technician</th>\n",
       "                        <td id=\"T_5006e194_22d2_11eb_b917_8c1645d12c3brow15_col0\" class=\"data row15 col0\" >-0.007966</td>\n",
       "            </tr>\n",
       "            <tr>\n",
       "                        <th id=\"T_5006e194_22d2_11eb_b917_8c1645d12c3blevel0_row16\" class=\"row_heading level0 row16\" >Job_self-employed</th>\n",
       "                        <td id=\"T_5006e194_22d2_11eb_b917_8c1645d12c3brow16_col0\" class=\"data row16 col0\" >-0.023015</td>\n",
       "            </tr>\n",
       "            <tr>\n",
       "                        <th id=\"T_5006e194_22d2_11eb_b917_8c1645d12c3blevel0_row17\" class=\"row_heading level0 row17\" >Job_housemaid</th>\n",
       "                        <td id=\"T_5006e194_22d2_11eb_b917_8c1645d12c3brow17_col0\" class=\"data row17 col0\" >-0.028362</td>\n",
       "            </tr>\n",
       "            <tr>\n",
       "                        <th id=\"T_5006e194_22d2_11eb_b917_8c1645d12c3blevel0_row18\" class=\"row_heading level0 row18\" >Job_services</th>\n",
       "                        <td id=\"T_5006e194_22d2_11eb_b917_8c1645d12c3brow18_col0\" class=\"data row18 col0\" >-0.034690</td>\n",
       "            </tr>\n",
       "            <tr>\n",
       "                        <th id=\"T_5006e194_22d2_11eb_b917_8c1645d12c3blevel0_row19\" class=\"row_heading level0 row19\" >Id</th>\n",
       "                        <td id=\"T_5006e194_22d2_11eb_b917_8c1645d12c3brow19_col0\" class=\"data row19 col0\" >-0.035039</td>\n",
       "            </tr>\n",
       "    </tbody></table>"
      ],
      "text/plain": [
       "<pandas.io.formats.style.Styler at 0x254a76b6248>"
      ]
     },
     "execution_count": 4,
     "metadata": {},
     "output_type": "execute_result"
    }
   ],
   "source": [
    "num_top10_corr = df.corr()['CarInsurance'].sort_values(ascending=False).head(20).to_frame()\n",
    "cm = sns.light_palette(\"blue\", as_cmap=True)\n",
    "s = num_top10_corr.style.background_gradient(cmap=cm)\n",
    "s"
   ]
  },
  {
   "cell_type": "markdown",
   "metadata": {},
   "source": [
    "## SPLITTING DATA"
   ]
  },
  {
   "cell_type": "code",
   "execution_count": 5,
   "metadata": {
    "ExecuteTime": {
     "end_time": "2020-11-09T21:27:37.648359Z",
     "start_time": "2020-11-09T21:27:37.640383Z"
    }
   },
   "outputs": [],
   "source": [
    "X= df.drop(['CarInsurance'],axis=1)\n",
    "y= df['CarInsurance']"
   ]
  },
  {
   "cell_type": "code",
   "execution_count": 6,
   "metadata": {
    "ExecuteTime": {
     "end_time": "2020-11-09T21:27:48.917237Z",
     "start_time": "2020-11-09T21:27:48.885325Z"
    }
   },
   "outputs": [],
   "source": [
    "X_train, X_test, y_train, y_test = train_test_split(X, y, test_size=0.20,random_state=42, stratify = y)"
   ]
  },
  {
   "cell_type": "code",
   "execution_count": 7,
   "metadata": {
    "ExecuteTime": {
     "end_time": "2020-11-09T21:27:53.483034Z",
     "start_time": "2020-11-09T21:27:53.475053Z"
    }
   },
   "outputs": [
    {
     "data": {
      "text/plain": [
       "((2239, 26), (560, 26))"
      ]
     },
     "execution_count": 7,
     "metadata": {},
     "output_type": "execute_result"
    }
   ],
   "source": [
    "X_train.shape,X_test.shape"
   ]
  },
  {
   "cell_type": "markdown",
   "metadata": {},
   "source": [
    "## BASE MODEL"
   ]
  },
  {
   "cell_type": "markdown",
   "metadata": {
    "ExecuteTime": {
     "end_time": "2020-11-09T21:28:15.508160Z",
     "start_time": "2020-11-09T21:28:15.504170Z"
    }
   },
   "source": [
    "### LOGISTIC REGRESSION"
   ]
  },
  {
   "cell_type": "code",
   "execution_count": 14,
   "metadata": {
    "ExecuteTime": {
     "end_time": "2020-11-09T21:32:41.260790Z",
     "start_time": "2020-11-09T21:32:41.151088Z"
    }
   },
   "outputs": [
    {
     "name": "stdout",
     "output_type": "stream",
     "text": [
      "Train Set Accuracy:74.497543546226\n",
      "Test Set Accuracy:73.03571428571428\n",
      "              precision    recall  f1-score   support\n",
      "\n",
      "           0       0.74      0.81      0.77       317\n",
      "           1       0.72      0.62      0.67       243\n",
      "\n",
      "    accuracy                           0.73       560\n",
      "   macro avg       0.73      0.72      0.72       560\n",
      "weighted avg       0.73      0.73      0.73       560\n",
      "\n",
      "\n",
      "Confusion Matrix:\n",
      "[[258  59]\n",
      " [ 92 151]]\n"
     ]
    }
   ],
   "source": [
    "LR_model = LogisticRegression()\n",
    "LR_model.fit(X_train,y_train)\n",
    "LR_train_pred = LR_model.predict(X_train)\n",
    "LR_test_pred = LR_model.predict(X_test)\n",
    "\n",
    "\n",
    "print(\"Train Set Accuracy:\"+str(accuracy_score(y_train,LR_train_pred)*100))\n",
    "print(\"Test Set Accuracy:\"+str(accuracy_score(y_test,LR_test_pred)*100))\n",
    "print(classification_report(y_test, LR_test_pred))\n",
    "print(\"\\nConfusion Matrix:\\n%s\"%confusion_matrix(y_test,LR_test_pred))"
   ]
  },
  {
   "cell_type": "code",
   "execution_count": 10,
   "metadata": {
    "ExecuteTime": {
     "end_time": "2020-11-09T21:28:43.179192Z",
     "start_time": "2020-11-09T21:28:42.898941Z"
    }
   },
   "outputs": [
    {
     "data": {
      "image/png": "[encoded data removed]",
      "text/plain": [
       "<Figure size 576x432 with 2 Axes>"
      ]
     },
     "metadata": {
      "needs_background": "light"
     },
     "output_type": "display_data"
    }
   ],
   "source": [
    "cm_LR = confusion_matrix(y_test, LR_test_pred, labels=[1,0])\n",
    "df_LR = pd.DataFrame(data=cm_LR, index=['akt 1', 'akt 0'], columns=['pred 1', 'pred 0'])\n",
    "sns.heatmap(df_LR, annot=True, fmt='d');\n",
    "plt.ylabel('Aktual')\n",
    "plt.xlabel('Prediksi')\n",
    "plt.show()"
   ]
  },
  {
   "cell_type": "markdown",
   "metadata": {},
   "source": [
    "- FN 92 dan FP 59\n",
    "- FP Machine predicted customer do not want to  buy the actual is want to buy\n",
    "- FN Machine predicted customer want to  buy the actual is do not want to buy"
   ]
  },
  {
   "cell_type": "markdown",
   "metadata": {},
   "source": [
    "### Random Forest Classifier"
   ]
  },
  {
   "cell_type": "code",
   "execution_count": 13,
   "metadata": {
    "ExecuteTime": {
     "end_time": "2020-11-09T21:32:21.778866Z",
     "start_time": "2020-11-09T21:32:20.976014Z"
    }
   },
   "outputs": [
    {
     "name": "stdout",
     "output_type": "stream",
     "text": [
      "Train Set Accuracy:100.0\n",
      "Test Set Accuracy:75.89285714285714\n",
      "              precision    recall  f1-score   support\n",
      "\n",
      "           0       0.78      0.80      0.79       317\n",
      "           1       0.73      0.70      0.72       243\n",
      "\n",
      "    accuracy                           0.76       560\n",
      "   macro avg       0.76      0.75      0.75       560\n",
      "weighted avg       0.76      0.76      0.76       560\n",
      "\n",
      "\n",
      "Confusion Matrix:\n",
      "[[255  62]\n",
      " [ 73 170]]\n"
     ]
    }
   ],
   "source": [
    "RF_model = RandomForestClassifier()\n",
    "RF_model.fit(X_train,y_train)\n",
    "RF_train_pred = RF_model.predict(X_train)\n",
    "RF_test_pred = RF_model.predict(X_test)\n",
    "RF_cm = confusion_matrix(y_test, RF_test_pred)\n",
    "\n",
    "\n",
    "print(\"Train Set Accuracy:\"+str(accuracy_score(y_train,RF_train_pred)*100))\n",
    "print(\"Test Set Accuracy:\"+str(accuracy_score(y_test,RF_test_pred)*100))\n",
    "print(classification_report(y_test, RF_test_pred))\n",
    "print(\"\\nConfusion Matrix:\\n%s\"%confusion_matrix(y_test,RF_test_pred))"
   ]
  },
  {
   "cell_type": "code",
   "execution_count": 19,
   "metadata": {
    "ExecuteTime": {
     "end_time": "2020-11-09T21:36:12.463240Z",
     "start_time": "2020-11-09T21:36:12.256793Z"
    }
   },
   "outputs": [
    {
     "data": {
      "image/png": "[encoded data removed]",
      "text/plain": [
       "<Figure size 576x432 with 2 Axes>"
      ]
     },
     "metadata": {
      "needs_background": "light"
     },
     "output_type": "display_data"
    }
   ],
   "source": [
    "RF_cm = confusion_matrix(y_test, RF_test_pred, labels=[1,0])\n",
    "df_RF = pd.DataFrame(data=RF_cm, index=['akt 1', 'akt 0'], columns=['pred 1', 'pred 0'])\n",
    "sns.heatmap(df_RF, annot=True, fmt='d');\n",
    "plt.ylabel('Aktual')\n",
    "plt.xlabel('Prediksi')\n",
    "plt.show()"
   ]
  },
  {
   "cell_type": "markdown",
   "metadata": {
    "ExecuteTime": {
     "end_time": "2020-11-09T21:33:40.649051Z",
     "start_time": "2020-11-09T21:33:40.642063Z"
    }
   },
   "source": [
    "- FN 73 dan FP 62\n",
    "- FP Machine predicted customer do not want to  buy the actual is want to buy\n",
    "- FN Machine predicted customer want to  buy the actual is do not want to buy"
   ]
  },
  {
   "cell_type": "markdown",
   "metadata": {},
   "source": [
    "### XGB Classsifier"
   ]
  },
  {
   "cell_type": "code",
   "execution_count": 17,
   "metadata": {
    "ExecuteTime": {
     "end_time": "2020-11-09T21:35:07.744234Z",
     "start_time": "2020-11-09T21:35:06.395840Z"
    }
   },
   "outputs": [
    {
     "name": "stdout",
     "output_type": "stream",
     "text": [
      "Train Set Accuracy:82.04555605180884\n",
      "Test Set Accuracy:76.42857142857142\n",
      "              precision    recall  f1-score   support\n",
      "\n",
      "           0       0.81      0.77      0.79       317\n",
      "           1       0.72      0.76      0.74       243\n",
      "\n",
      "    accuracy                           0.76       560\n",
      "   macro avg       0.76      0.76      0.76       560\n",
      "weighted avg       0.77      0.76      0.76       560\n",
      "\n",
      "\n",
      "Confusion Matrix:\n",
      "[[244  73]\n",
      " [ 59 184]]\n"
     ]
    }
   ],
   "source": [
    "XGB_model = XGBClassifier()\n",
    "XGB_model.fit(X_train,y_train)\n",
    "XGB_train_pred = XGB_model.predict(X_train)\n",
    "XGB_test_pred = XGB_model.predict(X_test)\n",
    "XGB_cm = confusion_matrix(y_test, XGB_test_pred)\n",
    "\n",
    "\n",
    "print(\"Train Set Accuracy:\"+str(accuracy_score(y_train,XGB_train_pred)*100))\n",
    "print(\"Test Set Accuracy:\"+str(accuracy_score(y_test,XGB_test_pred)*100))\n",
    "print(classification_report(y_test, XGB_test_pred))\n",
    "print(\"\\nConfusion Matrix:\\n%s\"%confusion_matrix(y_test,XGB_test_pred))"
   ]
  },
  {
   "cell_type": "code",
   "execution_count": 18,
   "metadata": {
    "ExecuteTime": {
     "end_time": "2020-11-09T21:35:50.670494Z",
     "start_time": "2020-11-09T21:35:50.450081Z"
    }
   },
   "outputs": [
    {
     "data": {
      "image/png": "[encoded data removed]",
      "text/plain": [
       "<Figure size 576x432 with 2 Axes>"
      ]
     },
     "metadata": {
      "needs_background": "light"
     },
     "output_type": "display_data"
    }
   ],
   "source": [
    "XGB_cm = confusion_matrix(y_test, XGB_test_pred, labels=[1,0])\n",
    "df_XGB = pd.DataFrame(data=XGB_cm, index=['akt 1', 'akt 0'], columns=['pred 1', 'pred 0'])\n",
    "sns.heatmap(df_XGB, annot=True, fmt='d');\n",
    "plt.ylabel('Aktual')\n",
    "plt.xlabel('Prediksi')\n",
    "plt.show()"
   ]
  },
  {
   "cell_type": "markdown",
   "metadata": {
    "ExecuteTime": {
     "end_time": "2020-11-09T21:36:35.365022Z",
     "start_time": "2020-11-09T21:36:35.359037Z"
    }
   },
   "source": [
    "- FN 59 dan FP 73\n",
    "- FP Machine predicted customer do not want to  buy the actual is want to buy\n",
    "- FN Machine predicted customer want to  buy the actual is do not want to buy"
   ]
  },
  {
   "cell_type": "markdown",
   "metadata": {},
   "source": [
    "# HYPERPARAMETER TUNING"
   ]
  },
  {
   "cell_type": "markdown",
   "metadata": {},
   "source": [
    "### LOGISTIC REGRESSION TUNED"
   ]
  },
  {
   "cell_type": "code",
   "execution_count": 22,
   "metadata": {
    "ExecuteTime": {
     "end_time": "2020-11-09T21:44:50.616918Z",
     "start_time": "2020-11-09T21:44:50.611930Z"
    }
   },
   "outputs": [],
   "source": [
    "LR = LogisticRegression()\n"
   ]
  },
  {
   "cell_type": "code",
   "execution_count": 23,
   "metadata": {
    "ExecuteTime": {
     "end_time": "2020-11-09T21:44:51.445732Z",
     "start_time": "2020-11-09T21:44:51.437725Z"
    }
   },
   "outputs": [
    {
     "data": {
      "text/plain": [
       "{'C': 1.0,\n",
       " 'class_weight': None,\n",
       " 'dual': False,\n",
       " 'fit_intercept': True,\n",
       " 'intercept_scaling': 1,\n",
       " 'l1_ratio': None,\n",
       " 'max_iter': 100,\n",
       " 'multi_class': 'auto',\n",
       " 'n_jobs': None,\n",
       " 'penalty': 'l2',\n",
       " 'random_state': None,\n",
       " 'solver': 'lbfgs',\n",
       " 'tol': 0.0001,\n",
       " 'verbose': 0,\n",
       " 'warm_start': False}"
      ]
     },
     "execution_count": 23,
     "metadata": {},
     "output_type": "execute_result"
    }
   ],
   "source": [
    "LR.get_params()"
   ]
  },
  {
   "cell_type": "code",
   "execution_count": null,
   "metadata": {},
   "outputs": [],
   "source": [
    "# param_LR = {'penalty':['l1', 'l2', 'elasticnet', 'none'],\n",
    "#             'max_iter': [100,200,1000],\n",
    "#             'C': [1],\n",
    "#             'tol': [0.0001,0.0005]\n",
    "#            }"
   ]
  },
  {
   "cell_type": "code",
   "execution_count": 24,
   "metadata": {
    "ExecuteTime": {
     "end_time": "2020-11-09T21:45:24.094430Z",
     "start_time": "2020-11-09T21:45:24.083462Z"
    }
   },
   "outputs": [
    {
     "data": {
      "text/plain": [
       "{'penalty': ['l1', 'l2', 'elasticnet', 'none'],\n",
       " 'solver': ['newton-cg', 'lbfgs', 'liblinier', 'sag', 'saga'],\n",
       " 'max_iter': [1, 10, 100, 1000]}"
      ]
     },
     "execution_count": 24,
     "metadata": {},
     "output_type": "execute_result"
    }
   ],
   "source": [
    "penalty = ['l1', 'l2', 'elasticnet', 'none']\n",
    "solver = ['newton-cg', 'lbfgs', 'liblinier', 'sag', 'saga']\n",
    "max_iter = [1, 10, 100, 1000]\n",
    "\n",
    "\n",
    "# simpan dalam variabel dengan nama 'param'\n",
    "param = {'penalty': penalty, 'solver': solver, 'max_iter': max_iter}\n",
    "param"
   ]
  },
  {
   "cell_type": "code",
   "execution_count": 25,
   "metadata": {
    "ExecuteTime": {
     "end_time": "2020-11-09T21:46:15.996693Z",
     "start_time": "2020-11-09T21:45:56.772082Z"
    }
   },
   "outputs": [
    {
     "name": "stdout",
     "output_type": "stream",
     "text": [
      "Fitting 5 folds for each of 80 candidates, totalling 400 fits\n"
     ]
    },
    {
     "name": "stderr",
     "output_type": "stream",
     "text": [
      "[Parallel(n_jobs=-1)]: Using backend LokyBackend with 12 concurrent workers.\n",
      "[Parallel(n_jobs=-1)]: Done  26 tasks      | elapsed:    8.0s\n",
      "[Parallel(n_jobs=-1)]: Done 208 tasks      | elapsed:    9.4s\n",
      "[Parallel(n_jobs=-1)]: Done 377 out of 400 | elapsed:   13.9s remaining:    0.8s\n",
      "[Parallel(n_jobs=-1)]: Done 400 out of 400 | elapsed:   18.9s finished\n"
     ]
    },
    {
     "data": {
      "text/plain": [
       "GridSearchCV(cv=5, error_score=nan,\n",
       "             estimator=LogisticRegression(C=1.0, class_weight=None, dual=False,\n",
       "                                          fit_intercept=True,\n",
       "                                          intercept_scaling=1, l1_ratio=None,\n",
       "                                          max_iter=100, multi_class='auto',\n",
       "                                          n_jobs=None, penalty='l2',\n",
       "                                          random_state=None, solver='lbfgs',\n",
       "                                          tol=0.0001, verbose=0,\n",
       "                                          warm_start=False),\n",
       "             iid='deprecated', n_jobs=-1,\n",
       "             param_grid={'max_iter': [1, 10, 100, 1000],\n",
       "                         'penalty': ['l1', 'l2', 'elasticnet', 'none'],\n",
       "                         'solver': ['newton-cg', 'lbfgs', 'liblinier', 'sag',\n",
       "                                    'saga']},\n",
       "             pre_dispatch='2*n_jobs', refit=True, return_train_score=False,\n",
       "             scoring='recall', verbose=1)"
      ]
     },
     "execution_count": 25,
     "metadata": {},
     "output_type": "execute_result"
    }
   ],
   "source": [
    "Tune_LR = GridSearchCV(LR, param_grid=param, cv= 5, n_jobs= -1, verbose= 1, scoring='recall')\n",
    "Tune_LR.fit(X_train, y_train) "
   ]
  },
  {
   "cell_type": "code",
   "execution_count": 26,
   "metadata": {
    "ExecuteTime": {
     "end_time": "2020-11-09T21:47:08.496359Z",
     "start_time": "2020-11-09T21:47:08.489379Z"
    }
   },
   "outputs": [
    {
     "data": {
      "text/plain": [
       "{'max_iter': 1000, 'penalty': 'none', 'solver': 'lbfgs'}"
      ]
     },
     "execution_count": 26,
     "metadata": {},
     "output_type": "execute_result"
    }
   ],
   "source": [
    "Tune_LR.best_params_"
   ]
  },
  {
   "cell_type": "code",
   "execution_count": 27,
   "metadata": {
    "ExecuteTime": {
     "end_time": "2020-11-09T21:47:18.803808Z",
     "start_time": "2020-11-09T21:47:18.529542Z"
    }
   },
   "outputs": [
    {
     "name": "stdout",
     "output_type": "stream",
     "text": [
      "              precision    recall  f1-score   support\n",
      "\n",
      "           0       0.75      0.80      0.77       317\n",
      "           1       0.71      0.65      0.68       243\n",
      "\n",
      "    accuracy                           0.74       560\n",
      "   macro avg       0.73      0.73      0.73       560\n",
      "weighted avg       0.73      0.74      0.73       560\n",
      "\n"
     ]
    },
    {
     "data": {
      "image/png": "[encoded data removed]",
      "text/plain": [
       "<Figure size 576x432 with 2 Axes>"
      ]
     },
     "metadata": {
      "needs_background": "light"
     },
     "output_type": "display_data"
    }
   ],
   "source": [
    "model_Tune_LR = Tune_LR.best_estimator_\n",
    "y_tuned_lr = model_Tune_LR.predict(X_test)\n",
    "cm_tuned_lr = confusion_matrix(y_test, y_tuned_lr, labels=[1,0])\n",
    "df_tuned_lr = pd.DataFrame(data=cm_tuned_lr, index=['Akt 1', 'Akt 0'], columns=['Pred 1', 'Pred 0'])\n",
    "print(classification_report(y_test, y_tuned_lr));\n",
    "sns.heatmap(df_tuned_lr, annot=True,fmt='d');\n",
    "plt.ylabel('Aktual')\n",
    "plt.xlabel('Prediksi')\n",
    "plt.show()"
   ]
  },
  {
   "cell_type": "markdown",
   "metadata": {
    "ExecuteTime": {
     "end_time": "2020-11-09T21:50:45.420203Z",
     "start_time": "2020-11-09T21:50:45.416213Z"
    }
   },
   "source": [
    "### RANDOM FOREST CLASSIFIER TUNED"
   ]
  },
  {
   "cell_type": "code",
   "execution_count": 80,
   "metadata": {
    "ExecuteTime": {
     "end_time": "2020-11-09T22:11:24.287090Z",
     "start_time": "2020-11-09T22:11:24.282103Z"
    }
   },
   "outputs": [],
   "source": [
    "RF_tuned = RandomForestClassifier()\n",
    "# # param_RF = {'n_estimators': [100,2000,5000],\n",
    "#             'max_depth': [None,5,7,8],\n",
    "#             'min_samples_split': [2,10,20],\n",
    "#             'max_features': ['auto',5],\n",
    "#            }"
   ]
  },
  {
   "cell_type": "code",
   "execution_count": 81,
   "metadata": {
    "ExecuteTime": {
     "end_time": "2020-11-09T22:11:24.619201Z",
     "start_time": "2020-11-09T22:11:24.612230Z"
    }
   },
   "outputs": [
    {
     "data": {
      "text/plain": [
       "{'bootstrap': True,\n",
       " 'ccp_alpha': 0.0,\n",
       " 'class_weight': None,\n",
       " 'criterion': 'gini',\n",
       " 'max_depth': None,\n",
       " 'max_features': 'auto',\n",
       " 'max_leaf_nodes': None,\n",
       " 'max_samples': None,\n",
       " 'min_impurity_decrease': 0.0,\n",
       " 'min_impurity_split': None,\n",
       " 'min_samples_leaf': 1,\n",
       " 'min_samples_split': 2,\n",
       " 'min_weight_fraction_leaf': 0.0,\n",
       " 'n_estimators': 100,\n",
       " 'n_jobs': None,\n",
       " 'oob_score': False,\n",
       " 'random_state': None,\n",
       " 'verbose': 0,\n",
       " 'warm_start': False}"
      ]
     },
     "execution_count": 81,
     "metadata": {},
     "output_type": "execute_result"
    }
   ],
   "source": [
    "RF_tuned.get_params()"
   ]
  },
  {
   "cell_type": "code",
   "execution_count": 82,
   "metadata": {
    "ExecuteTime": {
     "end_time": "2020-11-09T22:11:24.940343Z",
     "start_time": "2020-11-09T22:11:24.932365Z"
    }
   },
   "outputs": [],
   "source": [
    "param_RF = {\"n_estimators\" : [100, 200, 500, 1000,2000],\n",
    "          \"max_depth\" : [None, 5, 7, 9, 10],\n",
    "          \"min_samples_split\" : [2, 9, 15, 25],\n",
    "          \"min_samples_leaf\" : [1, 2, 5, 10],\n",
    "          \"max_features\" : ['auto',.5, .8, .7, .6]}"
   ]
  },
  {
   "cell_type": "code",
   "execution_count": 83,
   "metadata": {
    "ExecuteTime": {
     "end_time": "2020-11-09T22:12:05.156943Z",
     "start_time": "2020-11-09T22:11:25.694327Z"
    }
   },
   "outputs": [
    {
     "name": "stdout",
     "output_type": "stream",
     "text": [
      "Fitting 5 folds for each of 10 candidates, totalling 50 fits\n"
     ]
    },
    {
     "name": "stderr",
     "output_type": "stream",
     "text": [
      "[Parallel(n_jobs=-1)]: Using backend LokyBackend with 12 concurrent workers.\n",
      "[Parallel(n_jobs=-1)]: Done  26 tasks      | elapsed:   14.4s\n",
      "[Parallel(n_jobs=-1)]: Done  50 out of  50 | elapsed:   36.9s finished\n"
     ]
    },
    {
     "data": {
      "text/plain": [
       "RandomizedSearchCV(cv=5, error_score=nan,\n",
       "                   estimator=RandomForestClassifier(bootstrap=True,\n",
       "                                                    ccp_alpha=0.0,\n",
       "                                                    class_weight=None,\n",
       "                                                    criterion='gini',\n",
       "                                                    max_depth=None,\n",
       "                                                    max_features='auto',\n",
       "                                                    max_leaf_nodes=None,\n",
       "                                                    max_samples=None,\n",
       "                                                    min_impurity_decrease=0.0,\n",
       "                                                    min_impurity_split=None,\n",
       "                                                    min_samples_leaf=1,\n",
       "                                                    min_samples_split=2,\n",
       "                                                    min_weight_fraction_leaf=0.0,\n",
       "                                                    n_estimators=100,\n",
       "                                                    n_jobs...\n",
       "                                                    warm_start=False),\n",
       "                   iid='deprecated', n_iter=10, n_jobs=-1,\n",
       "                   param_distributions={'max_depth': [None, 5, 7, 9, 10],\n",
       "                                        'max_features': ['auto', 0.5, 0.8, 0.7,\n",
       "                                                         0.6],\n",
       "                                        'min_samples_leaf': [1, 2, 5, 10],\n",
       "                                        'min_samples_split': [2, 9, 15, 25],\n",
       "                                        'n_estimators': [100, 200, 500, 1000,\n",
       "                                                         2000]},\n",
       "                   pre_dispatch='2*n_jobs', random_state=None, refit=True,\n",
       "                   return_train_score=False, scoring='recall', verbose=1)"
      ]
     },
     "execution_count": 83,
     "metadata": {},
     "output_type": "execute_result"
    }
   ],
   "source": [
    "model_RF = RandomizedSearchCV(RF_tuned, param_distributions=param_RF, cv= 5, n_jobs= -1, verbose= 1, scoring='recall')\n",
    "model_RF.fit(X_train, y_train) "
   ]
  },
  {
   "cell_type": "code",
   "execution_count": 84,
   "metadata": {
    "ExecuteTime": {
     "end_time": "2020-11-09T22:12:15.851356Z",
     "start_time": "2020-11-09T22:12:15.844376Z"
    }
   },
   "outputs": [
    {
     "data": {
      "text/plain": [
       "{'n_estimators': 500,\n",
       " 'min_samples_split': 25,\n",
       " 'min_samples_leaf': 1,\n",
       " 'max_features': 0.5,\n",
       " 'max_depth': 10}"
      ]
     },
     "execution_count": 84,
     "metadata": {},
     "output_type": "execute_result"
    }
   ],
   "source": [
    "model_RF.best_params_"
   ]
  },
  {
   "cell_type": "code",
   "execution_count": null,
   "metadata": {},
   "outputs": [],
   "source": [
    "# {'n_estimators': 2000,\n",
    "#  'min_samples_split': 20,\n",
    "#  'max_features': 'auto',\n",
    "#  'max_depth': None}\n"
   ]
  },
  {
   "cell_type": "code",
   "execution_count": 85,
   "metadata": {
    "ExecuteTime": {
     "end_time": "2020-11-09T22:12:19.390895Z",
     "start_time": "2020-11-09T22:12:18.669823Z"
    }
   },
   "outputs": [
    {
     "name": "stdout",
     "output_type": "stream",
     "text": [
      "              precision    recall  f1-score   support\n",
      "\n",
      "           0       0.82      0.75      0.79       317\n",
      "           1       0.71      0.79      0.75       243\n",
      "\n",
      "    accuracy                           0.77       560\n",
      "   macro avg       0.77      0.77      0.77       560\n",
      "weighted avg       0.77      0.77      0.77       560\n",
      "\n"
     ]
    },
    {
     "data": {
      "image/png": "[encoded data removed]",
      "text/plain": [
       "<Figure size 576x432 with 2 Axes>"
      ]
     },
     "metadata": {
      "needs_background": "light"
     },
     "output_type": "display_data"
    }
   ],
   "source": [
    "model_tuned_RF = model_RF.best_estimator_\n",
    "y_tune_rf = model_tuned_RF.predict(X_test)\n",
    "cm_tune_rf = confusion_matrix(y_test, y_tune_rf, labels=[1,0])\n",
    "df_tune_rf = pd.DataFrame(data=cm_tune_rf, index=['Akt 1', 'Akt 0'], columns=['Pred 1', 'Pred 0'])\n",
    "print(classification_report(y_test, y_tune_rf));\n",
    "sns.heatmap(df_tune_rf, annot=True,fmt='d');\n",
    "plt.ylabel('Aktual')\n",
    "plt.xlabel('Prediksi')\n",
    "plt.show()"
   ]
  },
  {
   "cell_type": "markdown",
   "metadata": {
    "ExecuteTime": {
     "end_time": "2020-11-09T21:56:41.732043Z",
     "start_time": "2020-11-09T21:56:41.726059Z"
    }
   },
   "source": [
    "- FN 51 dan FP 79\n",
    "- FP Machine predicted customer do not want to  buy the actual is want to buy\n",
    "- FN Machine predicted customer want to  buy the actual is do not want to buy"
   ]
  },
  {
   "cell_type": "markdown",
   "metadata": {},
   "source": [
    "### XGB CLASSIFIER TUNED\n"
   ]
  },
  {
   "cell_type": "code",
   "execution_count": 86,
   "metadata": {
    "ExecuteTime": {
     "end_time": "2020-11-09T22:12:32.778113Z",
     "start_time": "2020-11-09T22:12:32.772127Z"
    }
   },
   "outputs": [],
   "source": [
    "XGB_Tuned = XGBClassifier()\n",
    "# param_xgb = {'max_depth': [6,1],\n",
    "#              'learning_rate': [0.300000012,0.600000012] , \n",
    "#              'n_estimators': [1000], \n",
    "#              'gamma': [0,.5], \n",
    "#              'colsample_bytree': [1,0.5],\n",
    "#              'subsample': [1], \n",
    "#              'reg_alpha':[0,0.5] ,\n",
    "#              'reg_lambda': [1,0.8]}"
   ]
  },
  {
   "cell_type": "code",
   "execution_count": 41,
   "metadata": {
    "ExecuteTime": {
     "end_time": "2020-11-09T22:01:54.536539Z",
     "start_time": "2020-11-09T22:01:54.527563Z"
    }
   },
   "outputs": [],
   "source": [
    "n_estimators=[10,50,100,200,300]\n",
    "max_depth=[2,3,4,5]\n",
    "learning_rate=[0.1,0.01]\n",
    "colsample_bytree=[0.5,0.6,0.7]\n",
    "min_child_weight=[1,2,3]\n",
    "gamma=[0.001,0.01,0.1]\n",
    "subsample=[0.6,0.7,0.8]\n",
    "\n",
    "param_xgb=dict(n_estimators=n_estimators,max_depth=max_depth,learning_rate=learning_rate,\n",
    "                colsample_bytree=colsample_bytree,min_child_weight=min_child_weight,gamma=gamma,subsample=subsample)"
   ]
  },
  {
   "cell_type": "code",
   "execution_count": 42,
   "metadata": {
    "ExecuteTime": {
     "end_time": "2020-11-09T22:02:07.219664Z",
     "start_time": "2020-11-09T22:01:56.236000Z"
    }
   },
   "outputs": [
    {
     "name": "stdout",
     "output_type": "stream",
     "text": [
      "Fitting 5 folds for each of 10 candidates, totalling 50 fits\n"
     ]
    },
    {
     "name": "stderr",
     "output_type": "stream",
     "text": [
      "[Parallel(n_jobs=-1)]: Using backend LokyBackend with 12 concurrent workers.\n",
      "[Parallel(n_jobs=-1)]: Done  26 tasks      | elapsed:    9.0s\n",
      "[Parallel(n_jobs=-1)]: Done  50 out of  50 | elapsed:   10.0s finished\n"
     ]
    },
    {
     "data": {
      "text/plain": [
       "RandomizedSearchCV(cv=5, error_score=nan,\n",
       "                   estimator=XGBClassifier(base_score=0.5, booster='gbtree',\n",
       "                                           colsample_bylevel=1,\n",
       "                                           colsample_bynode=1,\n",
       "                                           colsample_bytree=1, gamma=0,\n",
       "                                           learning_rate=0.1, max_delta_step=0,\n",
       "                                           max_depth=3, min_child_weight=1,\n",
       "                                           missing=None, n_estimators=100,\n",
       "                                           n_jobs=1, nthread=None,\n",
       "                                           objective='binary:logistic',\n",
       "                                           random_state=0, reg_alpha=0,\n",
       "                                           reg_lambda=1, sc...\n",
       "                   iid='deprecated', n_iter=10, n_jobs=-1,\n",
       "                   param_distributions={'colsample_bytree': [0.5, 0.6, 0.7],\n",
       "                                        'gamma': [0.001, 0.01, 0.1],\n",
       "                                        'learning_rate': [0.1, 0.01],\n",
       "                                        'max_depth': [2, 3, 4, 5],\n",
       "                                        'min_child_weight': [1, 2, 3],\n",
       "                                        'n_estimators': [10, 50, 100, 200, 300],\n",
       "                                        'subsample': [0.6, 0.7, 0.8]},\n",
       "                   pre_dispatch='2*n_jobs', random_state=None, refit=True,\n",
       "                   return_train_score=False, scoring='recall', verbose=1)"
      ]
     },
     "execution_count": 42,
     "metadata": {},
     "output_type": "execute_result"
    }
   ],
   "source": [
    "model_XGB = RandomizedSearchCV(XGB_Tuned, param_distributions=param_xgb, cv= 5, n_jobs= -1, verbose= 1, scoring='recall')\n",
    "model_XGB.fit(X_train, y_train)"
   ]
  },
  {
   "cell_type": "code",
   "execution_count": 43,
   "metadata": {
    "ExecuteTime": {
     "end_time": "2020-11-09T22:03:39.681226Z",
     "start_time": "2020-11-09T22:03:39.674247Z"
    }
   },
   "outputs": [
    {
     "data": {
      "text/plain": [
       "{'subsample': 0.7,\n",
       " 'n_estimators': 300,\n",
       " 'min_child_weight': 3,\n",
       " 'max_depth': 5,\n",
       " 'learning_rate': 0.01,\n",
       " 'gamma': 0.01,\n",
       " 'colsample_bytree': 0.7}"
      ]
     },
     "execution_count": 43,
     "metadata": {},
     "output_type": "execute_result"
    }
   ],
   "source": [
    "model_XGB.best_params_"
   ]
  },
  {
   "cell_type": "code",
   "execution_count": 44,
   "metadata": {
    "ExecuteTime": {
     "end_time": "2020-11-09T22:03:42.385001Z",
     "start_time": "2020-11-09T22:03:42.120705Z"
    }
   },
   "outputs": [
    {
     "name": "stdout",
     "output_type": "stream",
     "text": [
      "              precision    recall  f1-score   support\n",
      "\n",
      "           0       0.82      0.77      0.79       317\n",
      "           1       0.72      0.77      0.74       243\n",
      "\n",
      "    accuracy                           0.77       560\n",
      "   macro avg       0.77      0.77      0.77       560\n",
      "weighted avg       0.77      0.77      0.77       560\n",
      "\n"
     ]
    },
    {
     "data": {
      "image/png": "[encoded data removed]",
      "text/plain": [
       "<Figure size 576x432 with 2 Axes>"
      ]
     },
     "metadata": {
      "needs_background": "light"
     },
     "output_type": "display_data"
    }
   ],
   "source": [
    "model_tuned_XGB = model_XGB.best_estimator_\n",
    "y_tune_xgb = model_tuned_XGB.predict(X_test)\n",
    "cm_tune_xgb = confusion_matrix(y_test, y_tune_xgb, labels=[1,0])\n",
    "df_tune_xgb = pd.DataFrame(data=cm_tune_xgb, index=['Akt 1', 'Akt 0'], columns=['Pred 1', 'Pred 0'])\n",
    "print(classification_report(y_test, y_tune_xgb));\n",
    "sns.heatmap(df_tune_xgb, annot=True,fmt='d');\n",
    "plt.ylabel('Aktual')\n",
    "plt.xlabel('Prediksi')\n",
    "plt.show()"
   ]
  },
  {
   "cell_type": "markdown",
   "metadata": {
    "ExecuteTime": {
     "end_time": "2020-11-09T22:05:20.490762Z",
     "start_time": "2020-11-09T22:05:20.482783Z"
    }
   },
   "source": [
    "- FN 55 dan FP 74\n",
    "- FP Machine predicted customer do not want to  buy the actual is want to buy\n",
    "- FN Machine predicted customer want to  buy the actual is do not want to buy"
   ]
  },
  {
   "cell_type": "code",
   "execution_count": 64,
   "metadata": {
    "ExecuteTime": {
     "end_time": "2020-11-09T22:08:49.963712Z",
     "start_time": "2020-11-09T22:08:49.890923Z"
    }
   },
   "outputs": [
    {
     "name": "stdout",
     "output_type": "stream",
     "text": [
      "0.8164359088878964\n",
      "0.7696428571428572\n"
     ]
    }
   ],
   "source": [
    "y_tune_xgb_train = model_tuned_XGB.predict(X_train)\n",
    "print(accuracy_score(y_train, y_tune_xgb_train))\n",
    "print(accuracy_score(y_test, y_tune_xgb))"
   ]
  },
  {
   "cell_type": "code",
   "execution_count": 87,
   "metadata": {
    "ExecuteTime": {
     "end_time": "2020-11-09T22:12:36.810395Z",
     "start_time": "2020-11-09T22:12:36.790389Z"
    }
   },
   "outputs": [],
   "source": [
    "LRbase = recall_score(y_test, LR_test_pred)\n",
    "RF_base = recall_score(y_test, RF_test_pred)\n",
    "XGB_base = recall_score(y_test, XGB_test_pred)\n",
    "LR_tuned = recall_score(y_test, y_tuned_lr)\n",
    "RF_tuned = recall_score(y_test, y_tune_rf)\n",
    "XGB_tuned = recall_score(y_test, y_tune_xgb)"
   ]
  },
  {
   "cell_type": "code",
   "execution_count": 88,
   "metadata": {
    "ExecuteTime": {
     "end_time": "2020-11-09T22:12:37.708931Z",
     "start_time": "2020-11-09T22:12:37.689984Z"
    }
   },
   "outputs": [
    {
     "data": {
      "text/html": [
       "<div>\n",
       "<style scoped>\n",
       "    .dataframe tbody tr th:only-of-type {\n",
       "        vertical-align: middle;\n",
       "    }\n",
       "\n",
       "    .dataframe tbody tr th {\n",
       "        vertical-align: top;\n",
       "    }\n",
       "\n",
       "    .dataframe thead th {\n",
       "        text-align: right;\n",
       "    }\n",
       "</style>\n",
       "<table border=\"1\" class=\"dataframe\">\n",
       "  <thead>\n",
       "    <tr style=\"text-align: right;\">\n",
       "      <th></th>\n",
       "      <th>Recall Score</th>\n",
       "    </tr>\n",
       "  </thead>\n",
       "  <tbody>\n",
       "    <tr>\n",
       "      <th>RF_tuned</th>\n",
       "      <td>0.790123</td>\n",
       "    </tr>\n",
       "    <tr>\n",
       "      <th>XGB_tuned</th>\n",
       "      <td>0.773663</td>\n",
       "    </tr>\n",
       "    <tr>\n",
       "      <th>XGB</th>\n",
       "      <td>0.757202</td>\n",
       "    </tr>\n",
       "    <tr>\n",
       "      <th>RF</th>\n",
       "      <td>0.699588</td>\n",
       "    </tr>\n",
       "    <tr>\n",
       "      <th>LR_tuned</th>\n",
       "      <td>0.654321</td>\n",
       "    </tr>\n",
       "    <tr>\n",
       "      <th>LR</th>\n",
       "      <td>0.621399</td>\n",
       "    </tr>\n",
       "  </tbody>\n",
       "</table>\n",
       "</div>"
      ],
      "text/plain": [
       "           Recall Score\n",
       "RF_tuned       0.790123\n",
       "XGB_tuned      0.773663\n",
       "XGB            0.757202\n",
       "RF             0.699588\n",
       "LR_tuned       0.654321\n",
       "LR             0.621399"
      ]
     },
     "execution_count": 88,
     "metadata": {},
     "output_type": "execute_result"
    }
   ],
   "source": [
    "data={\n",
    "    'LR': [LRbase],\n",
    "    'RF': [RF_base],\n",
    "    'XGB': [XGB_base],\n",
    "    'LR_tuned': [LR_tuned],\n",
    "    'RF_tuned': [RF_tuned],\n",
    "    'XGB_tuned': [XGB_tuned]\n",
    "}\n",
    "\n",
    "(pd.DataFrame(data, index=['Recall Score']).T).sort_values('Recall Score',ascending=False)"
   ]
  },
  {
   "cell_type": "markdown",
   "metadata": {},
   "source": [
    "# Model Conclusion\n",
    "\n",
    "1. **The highest recall score is RF Tuned, comparing to the other model**\n",
    "{'n_estimators': 500,\n",
    " 'min_samples_split': 25,\n",
    " 'min_samples_leaf': 1,\n",
    " 'max_features': 0.5,\n",
    " 'max_depth': 10}\n",
    "\n",
    "\n",
    "\n",
    "# Business Conclusion\n",
    "1. The longer the conversations on the phone, the higher interest the customer will show to buy the insurance\n",
    "2. People who have loaned a car, do not want to buy \n",
    "3. Marketing is focusing contact the next customer by celullar instead of telephone. People these days is always using their cellphone instead of staying at home and respond to telephone call at home.\n",
    "4. higher education is most likely to buy insurance, and tertiary education is the highest rate who buy insurance\n",
    "5. most distributed data is on may\n",
    "6. compared to months contacted, on March, September, October, and December is the highest rate to buy insurance.\n",
    "7. probably the previous marketing is targeting in these months period\n",
    "8. Married people are most likely to buy car insurance, but the highest ratio is single status followed by divorced.\n",
    "9. Probably, when single and divorced, they have a saving amounts compare to married who need more Saving\n",
    "10. Management is the most frequent job\n",
    "\n"
   ]
  },
  {
   "cell_type": "markdown",
   "metadata": {
    "ExecuteTime": {
     "end_time": "2020-11-09T22:13:12.170812Z",
     "start_time": "2020-11-09T22:13:12.166826Z"
    }
   },
   "source": [
    "# SUGGESTION\n",
    "1. Bank should target people who already retired, still students, and unemployed, with single status(marital).\n",
    "2. The longer the conversations on the phone, the higher interest the customer will show to buy the insurance\n"
   ]
  },
  {
   "cell_type": "markdown",
   "metadata": {},
   "source": [
    "# DEPLOY\n"
   ]
  },
  {
   "cell_type": "code",
   "execution_count": 90,
   "metadata": {
    "ExecuteTime": {
     "end_time": "2020-11-09T22:13:35.886421Z",
     "start_time": "2020-11-09T22:13:35.881433Z"
    }
   },
   "outputs": [],
   "source": [
    "import joblib"
   ]
  },
  {
   "cell_type": "code",
   "execution_count": 91,
   "metadata": {
    "ExecuteTime": {
     "end_time": "2020-11-09T22:13:43.914962Z",
     "start_time": "2020-11-09T22:13:43.901998Z"
    }
   },
   "outputs": [
    {
     "data": {
      "text/plain": [
       "['CarInsuranceModel_2']"
      ]
     },
     "execution_count": 91,
     "metadata": {},
     "output_type": "execute_result"
    }
   ],
   "source": [
    "joblib.dump(RF_tuned, 'CarInsuranceModel_2')"
   ]
  },
  {
   "cell_type": "code",
   "execution_count": null,
   "metadata": {},
   "outputs": [],
   "source": []
  }
 ],
 "metadata": {
  "hide_input": false,
  "kernelspec": {
   "display_name": "Python 3",
   "language": "python",
   "name": "python3"
  },
  "language_info": {
   "codemirror_mode": {
    "name": "ipython",
    "version": 3
   },
   "file_extension": ".py",
   "mimetype": "text/x-python",
   "name": "python",
   "nbconvert_exporter": "python",
   "pygments_lexer": "ipython3",
   "version": "3.7.6"
  },
  "toc": {
   "base_numbering": 1,
   "nav_menu": {},
   "number_sections": true,
   "sideBar": true,
   "skip_h1_title": false,
   "title_cell": "Table of Contents",
   "title_sidebar": "Contents",
   "toc_cell": false,
   "toc_position": {},
   "toc_section_display": true,
   "toc_window_display": true
  },
  "varInspector": {
   "cols": {
    "lenName": 16,
    "lenType": 16,
    "lenVar": 40
   },
   "kernels_config": {
    "python": {
     "delete_cmd_postfix": "",
     "delete_cmd_prefix": "del ",
     "library": "var_list.py",
     "varRefreshCmd": "print(var_dic_list())"
    },
    "r": {
     "delete_cmd_postfix": ") ",
     "delete_cmd_prefix": "rm(",
     "library": "var_list.r",
     "varRefreshCmd": "cat(var_dic_list()) "
    }
   },
   "types_to_exclude": [
    "module",
    "function",
    "builtin_function_or_method",
    "instance",
    "_Feature"
   ],
   "window_display": false
  }
 },
 "nbformat": 4,
 "nbformat_minor": 4
}
