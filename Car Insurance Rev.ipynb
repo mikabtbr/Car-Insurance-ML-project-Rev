{
 "cells": [
  {
   "cell_type": "code",
   "execution_count": 106,
   "metadata": {
    "ExecuteTime": {
     "end_time": "2020-11-09T21:00:28.779535Z",
     "start_time": "2020-11-09T21:00:28.764576Z"
    }
   },
   "outputs": [],
   "source": [
    "import pandas as pd\n",
    "import numpy as np\n",
    "import seaborn as sns\n",
    "import matplotlib.pyplot as plt\n",
    "import warnings\n",
    "warnings.filterwarnings('ignore')\n",
    "%matplotlib inline\n",
    "plt.rcParams['figure.figsize'] = (5,3)\n",
    "\n",
    "from sklearn import set_config\n",
    "set_config(print_changed_only=False)\n",
    "\n"
   ]
  },
  {
   "cell_type": "markdown",
   "metadata": {
    "ExecuteTime": {
     "end_time": "2020-11-09T20:26:14.304756Z",
     "start_time": "2020-11-09T20:26:14.300765Z"
    }
   },
   "source": [
    "# VARIABLES"
   ]
  },
  {
   "cell_type": "markdown",
   "metadata": {
    "ExecuteTime": {
     "end_time": "2020-11-09T20:26:19.785106Z",
     "start_time": "2020-11-09T20:26:19.772142Z"
    }
   },
   "source": [
    "#  **Input variables**\n",
    "**1. age:** (numeric)\n",
    "\n",
    "**2. job :** type of job (categorical: ‘admin.’,’blue collar’,’entrepreneur’,’housemaid’,’management’,’retired’,’self-employed’,’services’,’student’,’technician’,’unemployed’,’unknown’)\n",
    "\n",
    "**3. marital :** marital status (categorical: ‘divorced’,’married’,’single’,’unknown’; note: ‘divorced’ means divorced or widowed)\n",
    "\n",
    "**4. education (categorical:** ‘basic.4y’,’basic.6y’,’basic.9y’,’high.school’,’professional.course’,’university.degree’,’unknown’)\n",
    "\n",
    "**5. default:** has credit in default? (categorical: ‘no’,’yes’,’unknown’)\n",
    "\n",
    "**6. housing:** has housing loan? (categorical: ‘no’,’yes’,’unknown’)\n",
    "\n",
    "**7. loan:** has personal loan? (categorical: ‘no’,’yes’,’unknown’)\n",
    "\n",
    "**8. contact:** contact communication type (categorical: ‘cellular’,’telephone’)\n",
    "\n",
    "**9. month:** last contact month of year (categorical: ‘jan’, ‘feb’, ‘mar’, …, ‘nov’, ‘dec’)\n",
    "\n",
    "**10. day** : last contact day\n",
    "\n",
    "**11. duration:** last contact duration, in seconds (numeric). Important note: this attribute highly affects the output target (e.g., if duration=0 then y=’no’). Yet, the duration is not known before a call is performed. Also, after the end of the call y is obviously known. Thus, this input should only be included for benchmark purposes and should be discarded if the intention is to have a realistic predictive model.\n",
    "\n",
    "**12. campaign:** number of contacts performed during this campaign and for this client (numeric, includes last contact)\n",
    "\n",
    "**13. pdays:** number of days that passed by after the client was last contacted from a previous campaign (numeric; 999 means client was not previously contacted)\n",
    "\n",
    "**14. previous:** number of contacts performed before this campaign and for this client (numeric)\n",
    "\n",
    "**15. poutcome:** outcome of the previous marketing campaign (categorical: ‘failure’,’nonexistent’,’success’)\n",
    "social and economic context attributes\n"
   ]
  },
  {
   "cell_type": "code",
   "execution_count": 14,
   "metadata": {
    "ExecuteTime": {
     "end_time": "2020-11-09T20:35:45.365982Z",
     "start_time": "2020-11-09T20:35:45.337057Z"
    }
   },
   "outputs": [],
   "source": [
    "df = pd.read_csv('Insurance.csv')"
   ]
  },
  {
   "cell_type": "code",
   "execution_count": 6,
   "metadata": {
    "ExecuteTime": {
     "end_time": "2020-11-09T20:26:43.580503Z",
     "start_time": "2020-11-09T20:26:43.547587Z"
    }
   },
   "outputs": [
    {
     "data": {
      "text/html": [
       "<div>\n",
       "<style scoped>\n",
       "    .dataframe tbody tr th:only-of-type {\n",
       "        vertical-align: middle;\n",
       "    }\n",
       "\n",
       "    .dataframe tbody tr th {\n",
       "        vertical-align: top;\n",
       "    }\n",
       "\n",
       "    .dataframe thead th {\n",
       "        text-align: right;\n",
       "    }\n",
       "</style>\n",
       "<table border=\"1\" class=\"dataframe\">\n",
       "  <thead>\n",
       "    <tr style=\"text-align: right;\">\n",
       "      <th></th>\n",
       "      <th>Id</th>\n",
       "      <th>Age</th>\n",
       "      <th>Job</th>\n",
       "      <th>Marital</th>\n",
       "      <th>Education</th>\n",
       "      <th>Default</th>\n",
       "      <th>Balance</th>\n",
       "      <th>HHInsurance</th>\n",
       "      <th>CarLoan</th>\n",
       "      <th>Communication</th>\n",
       "      <th>LastContactDay</th>\n",
       "      <th>LastContactMonth</th>\n",
       "      <th>NoOfContacts</th>\n",
       "      <th>DaysPassed</th>\n",
       "      <th>PrevAttempts</th>\n",
       "      <th>Outcome</th>\n",
       "      <th>CallStart</th>\n",
       "      <th>CallEnd</th>\n",
       "      <th>CarInsurance</th>\n",
       "    </tr>\n",
       "  </thead>\n",
       "  <tbody>\n",
       "    <tr>\n",
       "      <th>0</th>\n",
       "      <td>1</td>\n",
       "      <td>32</td>\n",
       "      <td>management</td>\n",
       "      <td>single</td>\n",
       "      <td>tertiary</td>\n",
       "      <td>0</td>\n",
       "      <td>1218</td>\n",
       "      <td>1</td>\n",
       "      <td>0</td>\n",
       "      <td>telephone</td>\n",
       "      <td>28</td>\n",
       "      <td>jan</td>\n",
       "      <td>2</td>\n",
       "      <td>-1</td>\n",
       "      <td>0</td>\n",
       "      <td>NaN</td>\n",
       "      <td>13:45:20</td>\n",
       "      <td>13:46:30</td>\n",
       "      <td>0</td>\n",
       "    </tr>\n",
       "    <tr>\n",
       "      <th>1</th>\n",
       "      <td>2</td>\n",
       "      <td>32</td>\n",
       "      <td>blue-collar</td>\n",
       "      <td>married</td>\n",
       "      <td>primary</td>\n",
       "      <td>0</td>\n",
       "      <td>1156</td>\n",
       "      <td>1</td>\n",
       "      <td>0</td>\n",
       "      <td>NaN</td>\n",
       "      <td>26</td>\n",
       "      <td>may</td>\n",
       "      <td>5</td>\n",
       "      <td>-1</td>\n",
       "      <td>0</td>\n",
       "      <td>NaN</td>\n",
       "      <td>14:49:03</td>\n",
       "      <td>14:52:08</td>\n",
       "      <td>0</td>\n",
       "    </tr>\n",
       "    <tr>\n",
       "      <th>2</th>\n",
       "      <td>3</td>\n",
       "      <td>29</td>\n",
       "      <td>management</td>\n",
       "      <td>single</td>\n",
       "      <td>tertiary</td>\n",
       "      <td>0</td>\n",
       "      <td>637</td>\n",
       "      <td>1</td>\n",
       "      <td>0</td>\n",
       "      <td>cellular</td>\n",
       "      <td>3</td>\n",
       "      <td>jun</td>\n",
       "      <td>1</td>\n",
       "      <td>119</td>\n",
       "      <td>1</td>\n",
       "      <td>failure</td>\n",
       "      <td>16:30:24</td>\n",
       "      <td>16:36:04</td>\n",
       "      <td>1</td>\n",
       "    </tr>\n",
       "    <tr>\n",
       "      <th>3</th>\n",
       "      <td>4</td>\n",
       "      <td>25</td>\n",
       "      <td>student</td>\n",
       "      <td>single</td>\n",
       "      <td>primary</td>\n",
       "      <td>0</td>\n",
       "      <td>373</td>\n",
       "      <td>1</td>\n",
       "      <td>0</td>\n",
       "      <td>cellular</td>\n",
       "      <td>11</td>\n",
       "      <td>may</td>\n",
       "      <td>2</td>\n",
       "      <td>-1</td>\n",
       "      <td>0</td>\n",
       "      <td>NaN</td>\n",
       "      <td>12:06:43</td>\n",
       "      <td>12:20:22</td>\n",
       "      <td>1</td>\n",
       "    </tr>\n",
       "    <tr>\n",
       "      <th>4</th>\n",
       "      <td>5</td>\n",
       "      <td>30</td>\n",
       "      <td>management</td>\n",
       "      <td>married</td>\n",
       "      <td>tertiary</td>\n",
       "      <td>0</td>\n",
       "      <td>2694</td>\n",
       "      <td>0</td>\n",
       "      <td>0</td>\n",
       "      <td>cellular</td>\n",
       "      <td>3</td>\n",
       "      <td>jun</td>\n",
       "      <td>1</td>\n",
       "      <td>-1</td>\n",
       "      <td>0</td>\n",
       "      <td>NaN</td>\n",
       "      <td>14:35:44</td>\n",
       "      <td>14:38:56</td>\n",
       "      <td>0</td>\n",
       "    </tr>\n",
       "  </tbody>\n",
       "</table>\n",
       "</div>"
      ],
      "text/plain": [
       "   Id  Age          Job  Marital Education  Default  Balance  HHInsurance  \\\n",
       "0   1   32   management   single  tertiary        0     1218            1   \n",
       "1   2   32  blue-collar  married   primary        0     1156            1   \n",
       "2   3   29   management   single  tertiary        0      637            1   \n",
       "3   4   25      student   single   primary        0      373            1   \n",
       "4   5   30   management  married  tertiary        0     2694            0   \n",
       "\n",
       "   CarLoan Communication  LastContactDay LastContactMonth  NoOfContacts  \\\n",
       "0        0     telephone              28              jan             2   \n",
       "1        0           NaN              26              may             5   \n",
       "2        0      cellular               3              jun             1   \n",
       "3        0      cellular              11              may             2   \n",
       "4        0      cellular               3              jun             1   \n",
       "\n",
       "   DaysPassed  PrevAttempts  Outcome CallStart   CallEnd  CarInsurance  \n",
       "0          -1             0      NaN  13:45:20  13:46:30             0  \n",
       "1          -1             0      NaN  14:49:03  14:52:08             0  \n",
       "2         119             1  failure  16:30:24  16:36:04             1  \n",
       "3          -1             0      NaN  12:06:43  12:20:22             1  \n",
       "4          -1             0      NaN  14:35:44  14:38:56             0  "
      ]
     },
     "execution_count": 6,
     "metadata": {},
     "output_type": "execute_result"
    }
   ],
   "source": [
    "df.head()"
   ]
  },
  {
   "cell_type": "code",
   "execution_count": 7,
   "metadata": {
    "ExecuteTime": {
     "end_time": "2020-11-09T20:26:51.056521Z",
     "start_time": "2020-11-09T20:26:51.036569Z"
    }
   },
   "outputs": [
    {
     "name": "stdout",
     "output_type": "stream",
     "text": [
      "<class 'pandas.core.frame.DataFrame'>\n",
      "RangeIndex: 4000 entries, 0 to 3999\n",
      "Data columns (total 19 columns):\n",
      " #   Column            Non-Null Count  Dtype \n",
      "---  ------            --------------  ----- \n",
      " 0   Id                4000 non-null   int64 \n",
      " 1   Age               4000 non-null   int64 \n",
      " 2   Job               3981 non-null   object\n",
      " 3   Marital           4000 non-null   object\n",
      " 4   Education         3831 non-null   object\n",
      " 5   Default           4000 non-null   int64 \n",
      " 6   Balance           4000 non-null   int64 \n",
      " 7   HHInsurance       4000 non-null   int64 \n",
      " 8   CarLoan           4000 non-null   int64 \n",
      " 9   Communication     3098 non-null   object\n",
      " 10  LastContactDay    4000 non-null   int64 \n",
      " 11  LastContactMonth  4000 non-null   object\n",
      " 12  NoOfContacts      4000 non-null   int64 \n",
      " 13  DaysPassed        4000 non-null   int64 \n",
      " 14  PrevAttempts      4000 non-null   int64 \n",
      " 15  Outcome           958 non-null    object\n",
      " 16  CallStart         4000 non-null   object\n",
      " 17  CallEnd           4000 non-null   object\n",
      " 18  CarInsurance      4000 non-null   int64 \n",
      "dtypes: int64(11), object(8)\n",
      "memory usage: 593.9+ KB\n"
     ]
    }
   ],
   "source": [
    "df.info()"
   ]
  },
  {
   "cell_type": "code",
   "execution_count": 8,
   "metadata": {
    "ExecuteTime": {
     "end_time": "2020-11-09T20:26:56.686466Z",
     "start_time": "2020-11-09T20:26:56.623636Z"
    }
   },
   "outputs": [
    {
     "data": {
      "text/html": [
       "<div>\n",
       "<style scoped>\n",
       "    .dataframe tbody tr th:only-of-type {\n",
       "        vertical-align: middle;\n",
       "    }\n",
       "\n",
       "    .dataframe tbody tr th {\n",
       "        vertical-align: top;\n",
       "    }\n",
       "\n",
       "    .dataframe thead th {\n",
       "        text-align: right;\n",
       "    }\n",
       "</style>\n",
       "<table border=\"1\" class=\"dataframe\">\n",
       "  <thead>\n",
       "    <tr style=\"text-align: right;\">\n",
       "      <th></th>\n",
       "      <th>Id</th>\n",
       "      <th>Age</th>\n",
       "      <th>Default</th>\n",
       "      <th>Balance</th>\n",
       "      <th>HHInsurance</th>\n",
       "      <th>CarLoan</th>\n",
       "      <th>LastContactDay</th>\n",
       "      <th>NoOfContacts</th>\n",
       "      <th>DaysPassed</th>\n",
       "      <th>PrevAttempts</th>\n",
       "      <th>CarInsurance</th>\n",
       "    </tr>\n",
       "  </thead>\n",
       "  <tbody>\n",
       "    <tr>\n",
       "      <th>count</th>\n",
       "      <td>4000.000000</td>\n",
       "      <td>4000.000000</td>\n",
       "      <td>4000.000000</td>\n",
       "      <td>4000.000000</td>\n",
       "      <td>4000.00000</td>\n",
       "      <td>4000.000000</td>\n",
       "      <td>4000.000000</td>\n",
       "      <td>4000.000000</td>\n",
       "      <td>4000.000000</td>\n",
       "      <td>4000.000000</td>\n",
       "      <td>4000.000000</td>\n",
       "    </tr>\n",
       "    <tr>\n",
       "      <th>mean</th>\n",
       "      <td>2000.500000</td>\n",
       "      <td>41.214750</td>\n",
       "      <td>0.014500</td>\n",
       "      <td>1532.937250</td>\n",
       "      <td>0.49275</td>\n",
       "      <td>0.133000</td>\n",
       "      <td>15.721250</td>\n",
       "      <td>2.607250</td>\n",
       "      <td>48.706500</td>\n",
       "      <td>0.717500</td>\n",
       "      <td>0.401000</td>\n",
       "    </tr>\n",
       "    <tr>\n",
       "      <th>std</th>\n",
       "      <td>1154.844867</td>\n",
       "      <td>11.550194</td>\n",
       "      <td>0.119555</td>\n",
       "      <td>3511.452489</td>\n",
       "      <td>0.50001</td>\n",
       "      <td>0.339617</td>\n",
       "      <td>8.425307</td>\n",
       "      <td>3.064204</td>\n",
       "      <td>106.685385</td>\n",
       "      <td>2.078647</td>\n",
       "      <td>0.490162</td>\n",
       "    </tr>\n",
       "    <tr>\n",
       "      <th>min</th>\n",
       "      <td>1.000000</td>\n",
       "      <td>18.000000</td>\n",
       "      <td>0.000000</td>\n",
       "      <td>-3058.000000</td>\n",
       "      <td>0.00000</td>\n",
       "      <td>0.000000</td>\n",
       "      <td>1.000000</td>\n",
       "      <td>1.000000</td>\n",
       "      <td>-1.000000</td>\n",
       "      <td>0.000000</td>\n",
       "      <td>0.000000</td>\n",
       "    </tr>\n",
       "    <tr>\n",
       "      <th>25%</th>\n",
       "      <td>1000.750000</td>\n",
       "      <td>32.000000</td>\n",
       "      <td>0.000000</td>\n",
       "      <td>111.000000</td>\n",
       "      <td>0.00000</td>\n",
       "      <td>0.000000</td>\n",
       "      <td>8.000000</td>\n",
       "      <td>1.000000</td>\n",
       "      <td>-1.000000</td>\n",
       "      <td>0.000000</td>\n",
       "      <td>0.000000</td>\n",
       "    </tr>\n",
       "    <tr>\n",
       "      <th>50%</th>\n",
       "      <td>2000.500000</td>\n",
       "      <td>39.000000</td>\n",
       "      <td>0.000000</td>\n",
       "      <td>551.500000</td>\n",
       "      <td>0.00000</td>\n",
       "      <td>0.000000</td>\n",
       "      <td>16.000000</td>\n",
       "      <td>2.000000</td>\n",
       "      <td>-1.000000</td>\n",
       "      <td>0.000000</td>\n",
       "      <td>0.000000</td>\n",
       "    </tr>\n",
       "    <tr>\n",
       "      <th>75%</th>\n",
       "      <td>3000.250000</td>\n",
       "      <td>49.000000</td>\n",
       "      <td>0.000000</td>\n",
       "      <td>1619.000000</td>\n",
       "      <td>1.00000</td>\n",
       "      <td>0.000000</td>\n",
       "      <td>22.000000</td>\n",
       "      <td>3.000000</td>\n",
       "      <td>-1.000000</td>\n",
       "      <td>0.000000</td>\n",
       "      <td>1.000000</td>\n",
       "    </tr>\n",
       "    <tr>\n",
       "      <th>max</th>\n",
       "      <td>4000.000000</td>\n",
       "      <td>95.000000</td>\n",
       "      <td>1.000000</td>\n",
       "      <td>98417.000000</td>\n",
       "      <td>1.00000</td>\n",
       "      <td>1.000000</td>\n",
       "      <td>31.000000</td>\n",
       "      <td>43.000000</td>\n",
       "      <td>854.000000</td>\n",
       "      <td>58.000000</td>\n",
       "      <td>1.000000</td>\n",
       "    </tr>\n",
       "  </tbody>\n",
       "</table>\n",
       "</div>"
      ],
      "text/plain": [
       "                Id          Age      Default       Balance  HHInsurance  \\\n",
       "count  4000.000000  4000.000000  4000.000000   4000.000000   4000.00000   \n",
       "mean   2000.500000    41.214750     0.014500   1532.937250      0.49275   \n",
       "std    1154.844867    11.550194     0.119555   3511.452489      0.50001   \n",
       "min       1.000000    18.000000     0.000000  -3058.000000      0.00000   \n",
       "25%    1000.750000    32.000000     0.000000    111.000000      0.00000   \n",
       "50%    2000.500000    39.000000     0.000000    551.500000      0.00000   \n",
       "75%    3000.250000    49.000000     0.000000   1619.000000      1.00000   \n",
       "max    4000.000000    95.000000     1.000000  98417.000000      1.00000   \n",
       "\n",
       "           CarLoan  LastContactDay  NoOfContacts   DaysPassed  PrevAttempts  \\\n",
       "count  4000.000000     4000.000000   4000.000000  4000.000000   4000.000000   \n",
       "mean      0.133000       15.721250      2.607250    48.706500      0.717500   \n",
       "std       0.339617        8.425307      3.064204   106.685385      2.078647   \n",
       "min       0.000000        1.000000      1.000000    -1.000000      0.000000   \n",
       "25%       0.000000        8.000000      1.000000    -1.000000      0.000000   \n",
       "50%       0.000000       16.000000      2.000000    -1.000000      0.000000   \n",
       "75%       0.000000       22.000000      3.000000    -1.000000      0.000000   \n",
       "max       1.000000       31.000000     43.000000   854.000000     58.000000   \n",
       "\n",
       "       CarInsurance  \n",
       "count   4000.000000  \n",
       "mean       0.401000  \n",
       "std        0.490162  \n",
       "min        0.000000  \n",
       "25%        0.000000  \n",
       "50%        0.000000  \n",
       "75%        1.000000  \n",
       "max        1.000000  "
      ]
     },
     "execution_count": 8,
     "metadata": {},
     "output_type": "execute_result"
    }
   ],
   "source": [
    "df.describe()"
   ]
  },
  {
   "cell_type": "code",
   "execution_count": null,
   "metadata": {},
   "outputs": [],
   "source": [
    "# we can see the outliers in Balance with big differentiation in maximum vs median."
   ]
  },
  {
   "cell_type": "code",
   "execution_count": 15,
   "metadata": {
    "ExecuteTime": {
     "end_time": "2020-11-09T20:35:47.817430Z",
     "start_time": "2020-11-09T20:35:47.767560Z"
    }
   },
   "outputs": [],
   "source": [
    "Insurance = []\n",
    "\n",
    "for i in df.columns:\n",
    "    Insurance .append([\n",
    "        i,\n",
    "        df[i].dtypes,\n",
    "        df[i].isna().sum(),\n",
    "        (((df[i].isna().sum())/len(df))*100).round(2),\n",
    "        df[i].nunique(),\n",
    "        df[i].drop_duplicates().sample(2).values\n",
    "    ])"
   ]
  },
  {
   "cell_type": "code",
   "execution_count": 16,
   "metadata": {
    "ExecuteTime": {
     "end_time": "2020-11-09T20:35:48.068759Z",
     "start_time": "2020-11-09T20:35:48.035843Z"
    }
   },
   "outputs": [
    {
     "data": {
      "text/html": [
       "<div>\n",
       "<style scoped>\n",
       "    .dataframe tbody tr th:only-of-type {\n",
       "        vertical-align: middle;\n",
       "    }\n",
       "\n",
       "    .dataframe tbody tr th {\n",
       "        vertical-align: top;\n",
       "    }\n",
       "\n",
       "    .dataframe thead th {\n",
       "        text-align: right;\n",
       "    }\n",
       "</style>\n",
       "<table border=\"1\" class=\"dataframe\">\n",
       "  <thead>\n",
       "    <tr style=\"text-align: right;\">\n",
       "      <th></th>\n",
       "      <th>Data Feature</th>\n",
       "      <th>Data types</th>\n",
       "      <th>Null</th>\n",
       "      <th>Null pct</th>\n",
       "      <th>Unique</th>\n",
       "      <th>Unique Sample</th>\n",
       "    </tr>\n",
       "  </thead>\n",
       "  <tbody>\n",
       "    <tr>\n",
       "      <th>0</th>\n",
       "      <td>Id</td>\n",
       "      <td>int64</td>\n",
       "      <td>0</td>\n",
       "      <td>0.00</td>\n",
       "      <td>4000</td>\n",
       "      <td>[422, 942]</td>\n",
       "    </tr>\n",
       "    <tr>\n",
       "      <th>1</th>\n",
       "      <td>Age</td>\n",
       "      <td>int64</td>\n",
       "      <td>0</td>\n",
       "      <td>0.00</td>\n",
       "      <td>70</td>\n",
       "      <td>[81, 34]</td>\n",
       "    </tr>\n",
       "    <tr>\n",
       "      <th>2</th>\n",
       "      <td>Job</td>\n",
       "      <td>object</td>\n",
       "      <td>19</td>\n",
       "      <td>0.48</td>\n",
       "      <td>11</td>\n",
       "      <td>[blue-collar, services]</td>\n",
       "    </tr>\n",
       "    <tr>\n",
       "      <th>3</th>\n",
       "      <td>Marital</td>\n",
       "      <td>object</td>\n",
       "      <td>0</td>\n",
       "      <td>0.00</td>\n",
       "      <td>3</td>\n",
       "      <td>[single, married]</td>\n",
       "    </tr>\n",
       "    <tr>\n",
       "      <th>4</th>\n",
       "      <td>Education</td>\n",
       "      <td>object</td>\n",
       "      <td>169</td>\n",
       "      <td>4.23</td>\n",
       "      <td>3</td>\n",
       "      <td>[nan, primary]</td>\n",
       "    </tr>\n",
       "    <tr>\n",
       "      <th>5</th>\n",
       "      <td>Default</td>\n",
       "      <td>int64</td>\n",
       "      <td>0</td>\n",
       "      <td>0.00</td>\n",
       "      <td>2</td>\n",
       "      <td>[0, 1]</td>\n",
       "    </tr>\n",
       "    <tr>\n",
       "      <th>6</th>\n",
       "      <td>Balance</td>\n",
       "      <td>int64</td>\n",
       "      <td>0</td>\n",
       "      <td>0.00</td>\n",
       "      <td>2178</td>\n",
       "      <td>[444, 1027]</td>\n",
       "    </tr>\n",
       "    <tr>\n",
       "      <th>7</th>\n",
       "      <td>HHInsurance</td>\n",
       "      <td>int64</td>\n",
       "      <td>0</td>\n",
       "      <td>0.00</td>\n",
       "      <td>2</td>\n",
       "      <td>[0, 1]</td>\n",
       "    </tr>\n",
       "    <tr>\n",
       "      <th>8</th>\n",
       "      <td>CarLoan</td>\n",
       "      <td>int64</td>\n",
       "      <td>0</td>\n",
       "      <td>0.00</td>\n",
       "      <td>2</td>\n",
       "      <td>[1, 0]</td>\n",
       "    </tr>\n",
       "    <tr>\n",
       "      <th>9</th>\n",
       "      <td>Communication</td>\n",
       "      <td>object</td>\n",
       "      <td>902</td>\n",
       "      <td>22.55</td>\n",
       "      <td>2</td>\n",
       "      <td>[cellular, nan]</td>\n",
       "    </tr>\n",
       "    <tr>\n",
       "      <th>10</th>\n",
       "      <td>LastContactDay</td>\n",
       "      <td>int64</td>\n",
       "      <td>0</td>\n",
       "      <td>0.00</td>\n",
       "      <td>31</td>\n",
       "      <td>[1, 2]</td>\n",
       "    </tr>\n",
       "    <tr>\n",
       "      <th>11</th>\n",
       "      <td>LastContactMonth</td>\n",
       "      <td>object</td>\n",
       "      <td>0</td>\n",
       "      <td>0.00</td>\n",
       "      <td>12</td>\n",
       "      <td>[sep, oct]</td>\n",
       "    </tr>\n",
       "    <tr>\n",
       "      <th>12</th>\n",
       "      <td>NoOfContacts</td>\n",
       "      <td>int64</td>\n",
       "      <td>0</td>\n",
       "      <td>0.00</td>\n",
       "      <td>35</td>\n",
       "      <td>[25, 4]</td>\n",
       "    </tr>\n",
       "    <tr>\n",
       "      <th>13</th>\n",
       "      <td>DaysPassed</td>\n",
       "      <td>int64</td>\n",
       "      <td>0</td>\n",
       "      <td>0.00</td>\n",
       "      <td>330</td>\n",
       "      <td>[306, 282]</td>\n",
       "    </tr>\n",
       "    <tr>\n",
       "      <th>14</th>\n",
       "      <td>PrevAttempts</td>\n",
       "      <td>int64</td>\n",
       "      <td>0</td>\n",
       "      <td>0.00</td>\n",
       "      <td>20</td>\n",
       "      <td>[1, 11]</td>\n",
       "    </tr>\n",
       "    <tr>\n",
       "      <th>15</th>\n",
       "      <td>Outcome</td>\n",
       "      <td>object</td>\n",
       "      <td>3042</td>\n",
       "      <td>76.05</td>\n",
       "      <td>3</td>\n",
       "      <td>[failure, success]</td>\n",
       "    </tr>\n",
       "    <tr>\n",
       "      <th>16</th>\n",
       "      <td>CallStart</td>\n",
       "      <td>object</td>\n",
       "      <td>0</td>\n",
       "      <td>0.00</td>\n",
       "      <td>3777</td>\n",
       "      <td>[11:55:18, 14:04:53]</td>\n",
       "    </tr>\n",
       "    <tr>\n",
       "      <th>17</th>\n",
       "      <td>CallEnd</td>\n",
       "      <td>object</td>\n",
       "      <td>0</td>\n",
       "      <td>0.00</td>\n",
       "      <td>3764</td>\n",
       "      <td>[18:00:34, 17:39:59]</td>\n",
       "    </tr>\n",
       "    <tr>\n",
       "      <th>18</th>\n",
       "      <td>CarInsurance</td>\n",
       "      <td>int64</td>\n",
       "      <td>0</td>\n",
       "      <td>0.00</td>\n",
       "      <td>2</td>\n",
       "      <td>[1, 0]</td>\n",
       "    </tr>\n",
       "  </tbody>\n",
       "</table>\n",
       "</div>"
      ],
      "text/plain": [
       "        Data Feature Data types  Null  Null pct  Unique  \\\n",
       "0                 Id      int64     0      0.00    4000   \n",
       "1                Age      int64     0      0.00      70   \n",
       "2                Job     object    19      0.48      11   \n",
       "3            Marital     object     0      0.00       3   \n",
       "4          Education     object   169      4.23       3   \n",
       "5            Default      int64     0      0.00       2   \n",
       "6            Balance      int64     0      0.00    2178   \n",
       "7        HHInsurance      int64     0      0.00       2   \n",
       "8            CarLoan      int64     0      0.00       2   \n",
       "9      Communication     object   902     22.55       2   \n",
       "10    LastContactDay      int64     0      0.00      31   \n",
       "11  LastContactMonth     object     0      0.00      12   \n",
       "12      NoOfContacts      int64     0      0.00      35   \n",
       "13        DaysPassed      int64     0      0.00     330   \n",
       "14      PrevAttempts      int64     0      0.00      20   \n",
       "15           Outcome     object  3042     76.05       3   \n",
       "16         CallStart     object     0      0.00    3777   \n",
       "17           CallEnd     object     0      0.00    3764   \n",
       "18      CarInsurance      int64     0      0.00       2   \n",
       "\n",
       "              Unique Sample  \n",
       "0                [422, 942]  \n",
       "1                  [81, 34]  \n",
       "2   [blue-collar, services]  \n",
       "3         [single, married]  \n",
       "4            [nan, primary]  \n",
       "5                    [0, 1]  \n",
       "6               [444, 1027]  \n",
       "7                    [0, 1]  \n",
       "8                    [1, 0]  \n",
       "9           [cellular, nan]  \n",
       "10                   [1, 2]  \n",
       "11               [sep, oct]  \n",
       "12                  [25, 4]  \n",
       "13               [306, 282]  \n",
       "14                  [1, 11]  \n",
       "15       [failure, success]  \n",
       "16     [11:55:18, 14:04:53]  \n",
       "17     [18:00:34, 17:39:59]  \n",
       "18                   [1, 0]  "
      ]
     },
     "execution_count": 16,
     "metadata": {},
     "output_type": "execute_result"
    }
   ],
   "source": [
    "pd.DataFrame(data = Insurance, columns = [\n",
    "    'Data Feature',\n",
    "    'Data types',\n",
    "    'Null',\n",
    "    'Null pct',\n",
    "    'Unique',\n",
    "    'Unique Sample'\n",
    "])"
   ]
  },
  {
   "cell_type": "markdown",
   "metadata": {},
   "source": [
    "# Handling Missing Values"
   ]
  },
  {
   "cell_type": "code",
   "execution_count": 17,
   "metadata": {
    "ExecuteTime": {
     "end_time": "2020-11-09T20:35:48.905519Z",
     "start_time": "2020-11-09T20:35:48.891555Z"
    }
   },
   "outputs": [
    {
     "data": {
      "text/plain": [
       "Outcome             3042\n",
       "Communication        902\n",
       "Education            169\n",
       "Job                   19\n",
       "CarLoan                0\n",
       "Age                    0\n",
       "Marital                0\n",
       "Default                0\n",
       "Balance                0\n",
       "HHInsurance            0\n",
       "CarInsurance           0\n",
       "CallEnd                0\n",
       "LastContactDay         0\n",
       "LastContactMonth       0\n",
       "NoOfContacts           0\n",
       "DaysPassed             0\n",
       "PrevAttempts           0\n",
       "CallStart              0\n",
       "Id                     0\n",
       "dtype: int64"
      ]
     },
     "execution_count": 17,
     "metadata": {},
     "output_type": "execute_result"
    }
   ],
   "source": [
    "df.isnull().sum().sort_values(ascending=False)"
   ]
  },
  {
   "cell_type": "code",
   "execution_count": 24,
   "metadata": {
    "ExecuteTime": {
     "end_time": "2020-11-09T20:39:36.269513Z",
     "start_time": "2020-11-09T20:39:35.892524Z"
    }
   },
   "outputs": [
    {
     "data": {
      "text/html": [
       "<div>\n",
       "<style scoped>\n",
       "    .dataframe tbody tr th:only-of-type {\n",
       "        vertical-align: middle;\n",
       "    }\n",
       "\n",
       "    .dataframe tbody tr th {\n",
       "        vertical-align: top;\n",
       "    }\n",
       "\n",
       "    .dataframe thead th {\n",
       "        text-align: right;\n",
       "    }\n",
       "</style>\n",
       "<table border=\"1\" class=\"dataframe\">\n",
       "  <thead>\n",
       "    <tr style=\"text-align: right;\">\n",
       "      <th></th>\n",
       "      <th>Id</th>\n",
       "      <th>Age</th>\n",
       "      <th>Job</th>\n",
       "      <th>Marital</th>\n",
       "      <th>Education</th>\n",
       "      <th>Default</th>\n",
       "      <th>Balance</th>\n",
       "      <th>HHInsurance</th>\n",
       "      <th>CarLoan</th>\n",
       "      <th>Communication</th>\n",
       "      <th>LastContactDay</th>\n",
       "      <th>LastContactMonth</th>\n",
       "      <th>NoOfContacts</th>\n",
       "      <th>DaysPassed</th>\n",
       "      <th>PrevAttempts</th>\n",
       "      <th>Outcome</th>\n",
       "      <th>CallStart</th>\n",
       "      <th>CallEnd</th>\n",
       "      <th>CarInsurance</th>\n",
       "    </tr>\n",
       "  </thead>\n",
       "  <tbody>\n",
       "  </tbody>\n",
       "</table>\n",
       "</div>"
      ],
      "text/plain": [
       "Empty DataFrame\n",
       "Columns: [Id, Age, Job, Marital, Education, Default, Balance, HHInsurance, CarLoan, Communication, LastContactDay, LastContactMonth, NoOfContacts, DaysPassed, PrevAttempts, Outcome, CallStart, CallEnd, CarInsurance]\n",
       "Index: []"
      ]
     },
     "execution_count": 24,
     "metadata": {},
     "output_type": "execute_result"
    }
   ],
   "source": [
    "df[df.duplicated()]"
   ]
  },
  {
   "cell_type": "markdown",
   "metadata": {},
   "source": [
    "there is no duplicated data."
   ]
  },
  {
   "cell_type": "code",
   "execution_count": 20,
   "metadata": {
    "ExecuteTime": {
     "end_time": "2020-11-09T20:37:55.244348Z",
     "start_time": "2020-11-09T20:37:55.235371Z"
    }
   },
   "outputs": [],
   "source": [
    "# i have 2 options to fill missing values in col Job and Education.\n",
    "# fill with mode(most_frequent) and using method='pad' >> fill the missing values with the frontfill\n",
    "df['Job'] = df['Job'].fillna(method ='pad')\n",
    "df['Education'] = df['Education'].fillna(method ='pad')\n",
    "\n",
    "# edu_mode=[]\n",
    "# job_types = df.Job.unique().tolist()\n",
    "# job_types.remove(np.nan)\n",
    "# for job in job_types:\n",
    "#     mode=df[df.Job==job].Education.mode()[0]\n",
    "#     edu_mode.append(mode)\n",
    "\n",
    "# edu_map=dict(zip(job_types,edu_mode))\n",
    "\n",
    "# for job in job_types:\n",
    "#     df.loc[(df.Education.isnull())&(df.Job==job),'Education']=edu_map[job]\n",
    "\n",
    "# df.Education.fillna('None',inplace=True)\n",
    "# df.Job.fillna('None',inplace=True)"
   ]
  },
  {
   "cell_type": "code",
   "execution_count": 21,
   "metadata": {
    "ExecuteTime": {
     "end_time": "2020-11-09T20:38:31.662389Z",
     "start_time": "2020-11-09T20:38:31.651418Z"
    }
   },
   "outputs": [],
   "source": [
    "df['Communication'].fillna(df['Communication'].mode()[0], inplace=True)\n",
    "df['Outcome'].fillna(df['Outcome'].mode()[0], inplace=True)"
   ]
  },
  {
   "cell_type": "code",
   "execution_count": 22,
   "metadata": {
    "ExecuteTime": {
     "end_time": "2020-11-09T20:38:39.212207Z",
     "start_time": "2020-11-09T20:38:39.199242Z"
    }
   },
   "outputs": [
    {
     "data": {
      "text/plain": [
       "Id                  0\n",
       "Age                 0\n",
       "Job                 0\n",
       "Marital             0\n",
       "Education           0\n",
       "Default             0\n",
       "Balance             0\n",
       "HHInsurance         0\n",
       "CarLoan             0\n",
       "Communication       0\n",
       "LastContactDay      0\n",
       "LastContactMonth    0\n",
       "NoOfContacts        0\n",
       "DaysPassed          0\n",
       "PrevAttempts        0\n",
       "Outcome             0\n",
       "CallStart           0\n",
       "CallEnd             0\n",
       "CarInsurance        0\n",
       "dtype: int64"
      ]
     },
     "execution_count": 22,
     "metadata": {},
     "output_type": "execute_result"
    }
   ],
   "source": [
    "df.isnull().sum()"
   ]
  },
  {
   "cell_type": "code",
   "execution_count": 23,
   "metadata": {
    "ExecuteTime": {
     "end_time": "2020-11-09T20:38:56.570810Z",
     "start_time": "2020-11-09T20:38:56.566821Z"
    }
   },
   "outputs": [],
   "source": [
    "# Missing values already imputed"
   ]
  },
  {
   "cell_type": "markdown",
   "metadata": {
    "ExecuteTime": {
     "end_time": "2020-11-09T20:42:02.518587Z",
     "start_time": "2020-11-09T20:42:02.513598Z"
    }
   },
   "source": [
    "# Handling Outliers"
   ]
  },
  {
   "cell_type": "markdown",
   "metadata": {
    "ExecuteTime": {
     "end_time": "2020-11-09T20:42:18.712299Z",
     "start_time": "2020-11-09T20:42:18.707316Z"
    }
   },
   "source": [
    "## AGE"
   ]
  },
  {
   "cell_type": "markdown",
   "metadata": {
    "ExecuteTime": {
     "end_time": "2020-11-09T20:42:34.666653Z",
     "start_time": "2020-11-09T20:42:34.663662Z"
    }
   },
   "source": [
    "- data seems have age outliers, but i wont drop these Age outliers, because those age group are the significant informations for Car Insurance decision"
   ]
  },
  {
   "cell_type": "code",
   "execution_count": 43,
   "metadata": {
    "ExecuteTime": {
     "end_time": "2020-11-09T20:44:59.713935Z",
     "start_time": "2020-11-09T20:44:59.413738Z"
    }
   },
   "outputs": [
    {
     "data": {
      "image/png": "[encoded data removed]",
      "text/plain": [
       "<Figure size 360x216 with 1 Axes>"
      ]
     },
     "metadata": {
      "needs_background": "light"
     },
     "output_type": "display_data"
    }
   ],
   "source": [
    "sns.distplot(df.Age,bins=50,color='black',)\n",
    "\n",
    "plt.show()\n"
   ]
  },
  {
   "cell_type": "code",
   "execution_count": 44,
   "metadata": {
    "ExecuteTime": {
     "end_time": "2020-11-09T20:45:00.871839Z",
     "start_time": "2020-11-09T20:45:00.708277Z"
    }
   },
   "outputs": [
    {
     "data": {
      "text/plain": [
       "95"
      ]
     },
     "execution_count": 44,
     "metadata": {},
     "output_type": "execute_result"
    },
    {
     "data": {
      "image/png": "[encoded data removed]",
      "text/plain": [
       "<Figure size 360x216 with 1 Axes>"
      ]
     },
     "metadata": {
      "needs_background": "light"
     },
     "output_type": "display_data"
    }
   ],
   "source": [
    "sns.boxplot(x= 'Age',data=df)\n",
    "df.Age.max()\n"
   ]
  },
  {
   "cell_type": "code",
   "execution_count": 35,
   "metadata": {
    "ExecuteTime": {
     "end_time": "2020-11-09T20:43:40.873678Z",
     "start_time": "2020-11-09T20:43:40.868692Z"
    }
   },
   "outputs": [],
   "source": [
    "# i keep the outliers in age"
   ]
  },
  {
   "cell_type": "markdown",
   "metadata": {},
   "source": [
    "## Balance"
   ]
  },
  {
   "cell_type": "code",
   "execution_count": 45,
   "metadata": {
    "ExecuteTime": {
     "end_time": "2020-11-09T20:45:02.692004Z",
     "start_time": "2020-11-09T20:45:02.445634Z"
    }
   },
   "outputs": [
    {
     "data": {
      "text/plain": [
       "98417"
      ]
     },
     "execution_count": 45,
     "metadata": {},
     "output_type": "execute_result"
    },
    {
     "data": {
      "image/png": "[encoded data removed]",
      "text/plain": [
       "<Figure size 360x216 with 1 Axes>"
      ]
     },
     "metadata": {
      "needs_background": "light"
     },
     "output_type": "display_data"
    }
   ],
   "source": [
    "sns.boxplot(x= 'Balance',data=df)\n",
    "df.Balance.max()\n"
   ]
  },
  {
   "cell_type": "code",
   "execution_count": 46,
   "metadata": {
    "ExecuteTime": {
     "end_time": "2020-11-09T20:45:04.294692Z",
     "start_time": "2020-11-09T20:45:04.092235Z"
    }
   },
   "outputs": [
    {
     "data": {
      "text/plain": [
       "<AxesSubplot:>"
      ]
     },
     "execution_count": 46,
     "metadata": {},
     "output_type": "execute_result"
    },
    {
     "data": {
      "image/png": "[encoded data removed]",
      "text/plain": [
       "<Figure size 360x216 with 1 Axes>"
      ]
     },
     "metadata": {
      "needs_background": "light"
     },
     "output_type": "display_data"
    }
   ],
   "source": [
    "df['Balance'].hist(bins=20,color='b')"
   ]
  },
  {
   "cell_type": "code",
   "execution_count": 52,
   "metadata": {
    "ExecuteTime": {
     "end_time": "2020-11-09T20:47:30.172587Z",
     "start_time": "2020-11-09T20:47:30.162638Z"
    }
   },
   "outputs": [
    {
     "data": {
      "text/plain": [
       "(323.6, 4313.5999999999985)"
      ]
     },
     "execution_count": 52,
     "metadata": {},
     "output_type": "execute_result"
    }
   ],
   "source": [
    "max_thresold = df['Balance'].quantile(0.95)\n",
    "min_thresold = df['Balance'].quantile(0.2)\n",
    "min_thresold,max_thresold"
   ]
  },
  {
   "cell_type": "code",
   "execution_count": 50,
   "metadata": {
    "ExecuteTime": {
     "end_time": "2020-11-09T20:46:40.732734Z",
     "start_time": "2020-11-09T20:46:40.724757Z"
    }
   },
   "outputs": [],
   "source": [
    "df= df[(df['Balance']>min_thresold)&(df['Balance']<max_thresold)]"
   ]
  },
  {
   "cell_type": "code",
   "execution_count": 51,
   "metadata": {
    "ExecuteTime": {
     "end_time": "2020-11-09T20:46:49.900230Z",
     "start_time": "2020-11-09T20:46:49.886268Z"
    }
   },
   "outputs": [
    {
     "name": "stdout",
     "output_type": "stream",
     "text": [
      "<class 'pandas.core.frame.DataFrame'>\n",
      "Int64Index: 2799 entries, 0 to 3999\n",
      "Data columns (total 18 columns):\n",
      " #   Column            Non-Null Count  Dtype  \n",
      "---  ------            --------------  -----  \n",
      " 0   Id                2799 non-null   int64  \n",
      " 1   Age               2799 non-null   int64  \n",
      " 2   Job               2799 non-null   object \n",
      " 3   Marital           2799 non-null   object \n",
      " 4   Education         2799 non-null   object \n",
      " 5   Default           2799 non-null   int64  \n",
      " 6   Balance           2799 non-null   int64  \n",
      " 7   HHInsurance       2799 non-null   int64  \n",
      " 8   CarLoan           2799 non-null   int64  \n",
      " 9   Communication     2799 non-null   object \n",
      " 10  LastContactDay    2799 non-null   int64  \n",
      " 11  LastContactMonth  2799 non-null   object \n",
      " 12  NoOfContacts      2799 non-null   int64  \n",
      " 13  DaysPassed        2799 non-null   int64  \n",
      " 14  PrevAttempts      2799 non-null   int64  \n",
      " 15  Outcome           2799 non-null   object \n",
      " 16  CarInsurance      2799 non-null   int64  \n",
      " 17  Duration          2799 non-null   float64\n",
      "dtypes: float64(1), int64(11), object(6)\n",
      "memory usage: 415.5+ KB\n"
     ]
    }
   ],
   "source": [
    "df.info()"
   ]
  },
  {
   "cell_type": "markdown",
   "metadata": {
    "ExecuteTime": {
     "end_time": "2020-11-09T20:40:00.518696Z",
     "start_time": "2020-11-09T20:40:00.513711Z"
    }
   },
   "source": [
    "# FEATURE CREATIONS"
   ]
  },
  {
   "cell_type": "code",
   "execution_count": null,
   "metadata": {},
   "outputs": [],
   "source": [
    "# I make duration call (delta time (callend - call start ) into Seconds unit."
   ]
  },
  {
   "cell_type": "code",
   "execution_count": 53,
   "metadata": {
    "ExecuteTime": {
     "end_time": "2020-11-09T20:47:47.547138Z",
     "start_time": "2020-11-09T20:47:47.316754Z"
    }
   },
   "outputs": [
    {
     "ename": "KeyError",
     "evalue": "'CallStart'",
     "output_type": "error",
     "traceback": [
      "\u001b[1;31m---------------------------------------------------------------------------\u001b[0m",
      "\u001b[1;31mKeyError\u001b[0m                                  Traceback (most recent call last)",
      "\u001b[1;32m~\\anaconda3\\lib\\site-packages\\pandas\\core\\indexes\\base.py\u001b[0m in \u001b[0;36mget_loc\u001b[1;34m(self, key, method, tolerance)\u001b[0m\n\u001b[0;32m   2888\u001b[0m             \u001b[1;32mtry\u001b[0m\u001b[1;33m:\u001b[0m\u001b[1;33m\u001b[0m\u001b[1;33m\u001b[0m\u001b[0m\n\u001b[1;32m-> 2889\u001b[1;33m                 \u001b[1;32mreturn\u001b[0m \u001b[0mself\u001b[0m\u001b[1;33m.\u001b[0m\u001b[0m_engine\u001b[0m\u001b[1;33m.\u001b[0m\u001b[0mget_loc\u001b[0m\u001b[1;33m(\u001b[0m\u001b[0mcasted_key\u001b[0m\u001b[1;33m)\u001b[0m\u001b[1;33m\u001b[0m\u001b[1;33m\u001b[0m\u001b[0m\n\u001b[0m\u001b[0;32m   2890\u001b[0m             \u001b[1;32mexcept\u001b[0m \u001b[0mKeyError\u001b[0m \u001b[1;32mas\u001b[0m \u001b[0merr\u001b[0m\u001b[1;33m:\u001b[0m\u001b[1;33m\u001b[0m\u001b[1;33m\u001b[0m\u001b[0m\n",
      "\u001b[1;32mpandas\\_libs\\index.pyx\u001b[0m in \u001b[0;36mpandas._libs.index.IndexEngine.get_loc\u001b[1;34m()\u001b[0m\n",
      "\u001b[1;32mpandas\\_libs\\index.pyx\u001b[0m in \u001b[0;36mpandas._libs.index.IndexEngine.get_loc\u001b[1;34m()\u001b[0m\n",
      "\u001b[1;32mpandas\\_libs\\hashtable_class_helper.pxi\u001b[0m in \u001b[0;36mpandas._libs.hashtable.PyObjectHashTable.get_item\u001b[1;34m()\u001b[0m\n",
      "\u001b[1;32mpandas\\_libs\\hashtable_class_helper.pxi\u001b[0m in \u001b[0;36mpandas._libs.hashtable.PyObjectHashTable.get_item\u001b[1;34m()\u001b[0m\n",
      "\u001b[1;31mKeyError\u001b[0m: 'CallStart'",
      "\nThe above exception was the direct cause of the following exception:\n",
      "\u001b[1;31mKeyError\u001b[0m                                  Traceback (most recent call last)",
      "\u001b[1;32m<ipython-input-53-327ca6feb524>\u001b[0m in \u001b[0;36m<module>\u001b[1;34m\u001b[0m\n\u001b[1;32m----> 1\u001b[1;33m \u001b[0mdf\u001b[0m\u001b[1;33m[\u001b[0m\u001b[1;34m'CallStart'\u001b[0m\u001b[1;33m]\u001b[0m \u001b[1;33m=\u001b[0m \u001b[0mdf\u001b[0m\u001b[1;33m[\u001b[0m\u001b[1;34m'CallStart'\u001b[0m\u001b[1;33m]\u001b[0m\u001b[1;33m.\u001b[0m\u001b[0mastype\u001b[0m\u001b[1;33m(\u001b[0m\u001b[1;34m'datetime64[ns]'\u001b[0m\u001b[1;33m)\u001b[0m\u001b[1;33m\u001b[0m\u001b[1;33m\u001b[0m\u001b[0m\n\u001b[0m\u001b[0;32m      2\u001b[0m \u001b[0mdf\u001b[0m\u001b[1;33m[\u001b[0m\u001b[1;34m'CallEnd'\u001b[0m\u001b[1;33m]\u001b[0m \u001b[1;33m=\u001b[0m \u001b[0mdf\u001b[0m\u001b[1;33m[\u001b[0m\u001b[1;34m'CallEnd'\u001b[0m\u001b[1;33m]\u001b[0m\u001b[1;33m.\u001b[0m\u001b[0mastype\u001b[0m\u001b[1;33m(\u001b[0m\u001b[1;34m'datetime64[ns]'\u001b[0m\u001b[1;33m)\u001b[0m\u001b[1;33m\u001b[0m\u001b[1;33m\u001b[0m\u001b[0m\n",
      "\u001b[1;32m~\\anaconda3\\lib\\site-packages\\pandas\\core\\frame.py\u001b[0m in \u001b[0;36m__getitem__\u001b[1;34m(self, key)\u001b[0m\n\u001b[0;32m   2900\u001b[0m             \u001b[1;32mif\u001b[0m \u001b[0mself\u001b[0m\u001b[1;33m.\u001b[0m\u001b[0mcolumns\u001b[0m\u001b[1;33m.\u001b[0m\u001b[0mnlevels\u001b[0m \u001b[1;33m>\u001b[0m \u001b[1;36m1\u001b[0m\u001b[1;33m:\u001b[0m\u001b[1;33m\u001b[0m\u001b[1;33m\u001b[0m\u001b[0m\n\u001b[0;32m   2901\u001b[0m                 \u001b[1;32mreturn\u001b[0m \u001b[0mself\u001b[0m\u001b[1;33m.\u001b[0m\u001b[0m_getitem_multilevel\u001b[0m\u001b[1;33m(\u001b[0m\u001b[0mkey\u001b[0m\u001b[1;33m)\u001b[0m\u001b[1;33m\u001b[0m\u001b[1;33m\u001b[0m\u001b[0m\n\u001b[1;32m-> 2902\u001b[1;33m             \u001b[0mindexer\u001b[0m \u001b[1;33m=\u001b[0m \u001b[0mself\u001b[0m\u001b[1;33m.\u001b[0m\u001b[0mcolumns\u001b[0m\u001b[1;33m.\u001b[0m\u001b[0mget_loc\u001b[0m\u001b[1;33m(\u001b[0m\u001b[0mkey\u001b[0m\u001b[1;33m)\u001b[0m\u001b[1;33m\u001b[0m\u001b[1;33m\u001b[0m\u001b[0m\n\u001b[0m\u001b[0;32m   2903\u001b[0m             \u001b[1;32mif\u001b[0m \u001b[0mis_integer\u001b[0m\u001b[1;33m(\u001b[0m\u001b[0mindexer\u001b[0m\u001b[1;33m)\u001b[0m\u001b[1;33m:\u001b[0m\u001b[1;33m\u001b[0m\u001b[1;33m\u001b[0m\u001b[0m\n\u001b[0;32m   2904\u001b[0m                 \u001b[0mindexer\u001b[0m \u001b[1;33m=\u001b[0m \u001b[1;33m[\u001b[0m\u001b[0mindexer\u001b[0m\u001b[1;33m]\u001b[0m\u001b[1;33m\u001b[0m\u001b[1;33m\u001b[0m\u001b[0m\n",
      "\u001b[1;32m~\\anaconda3\\lib\\site-packages\\pandas\\core\\indexes\\base.py\u001b[0m in \u001b[0;36mget_loc\u001b[1;34m(self, key, method, tolerance)\u001b[0m\n\u001b[0;32m   2889\u001b[0m                 \u001b[1;32mreturn\u001b[0m \u001b[0mself\u001b[0m\u001b[1;33m.\u001b[0m\u001b[0m_engine\u001b[0m\u001b[1;33m.\u001b[0m\u001b[0mget_loc\u001b[0m\u001b[1;33m(\u001b[0m\u001b[0mcasted_key\u001b[0m\u001b[1;33m)\u001b[0m\u001b[1;33m\u001b[0m\u001b[1;33m\u001b[0m\u001b[0m\n\u001b[0;32m   2890\u001b[0m             \u001b[1;32mexcept\u001b[0m \u001b[0mKeyError\u001b[0m \u001b[1;32mas\u001b[0m \u001b[0merr\u001b[0m\u001b[1;33m:\u001b[0m\u001b[1;33m\u001b[0m\u001b[1;33m\u001b[0m\u001b[0m\n\u001b[1;32m-> 2891\u001b[1;33m                 \u001b[1;32mraise\u001b[0m \u001b[0mKeyError\u001b[0m\u001b[1;33m(\u001b[0m\u001b[0mkey\u001b[0m\u001b[1;33m)\u001b[0m \u001b[1;32mfrom\u001b[0m \u001b[0merr\u001b[0m\u001b[1;33m\u001b[0m\u001b[1;33m\u001b[0m\u001b[0m\n\u001b[0m\u001b[0;32m   2892\u001b[0m \u001b[1;33m\u001b[0m\u001b[0m\n\u001b[0;32m   2893\u001b[0m         \u001b[1;32mif\u001b[0m \u001b[0mtolerance\u001b[0m \u001b[1;32mis\u001b[0m \u001b[1;32mnot\u001b[0m \u001b[1;32mNone\u001b[0m\u001b[1;33m:\u001b[0m\u001b[1;33m\u001b[0m\u001b[1;33m\u001b[0m\u001b[0m\n",
      "\u001b[1;31mKeyError\u001b[0m: 'CallStart'"
     ]
    }
   ],
   "source": [
    "df['CallStart'] = df['CallStart'].astype('datetime64[ns]')\n",
    "df['CallEnd'] = df['CallEnd'].astype('datetime64[ns]')\n"
   ]
  },
  {
   "cell_type": "code",
   "execution_count": 27,
   "metadata": {
    "ExecuteTime": {
     "end_time": "2020-11-09T20:40:59.234745Z",
     "start_time": "2020-11-09T20:40:59.206821Z"
    }
   },
   "outputs": [],
   "source": [
    "df['Duration'] = (df.CallEnd - df.CallStart).astype('timedelta64[s]')"
   ]
  },
  {
   "cell_type": "code",
   "execution_count": 28,
   "metadata": {
    "ExecuteTime": {
     "end_time": "2020-11-09T20:41:30.368525Z",
     "start_time": "2020-11-09T20:41:30.361542Z"
    }
   },
   "outputs": [],
   "source": [
    "df.drop(columns=['CallStart','CallEnd'],inplace = True)"
   ]
  },
  {
   "cell_type": "markdown",
   "metadata": {
    "ExecuteTime": {
     "end_time": "2020-11-09T20:48:06.933318Z",
     "start_time": "2020-11-09T20:48:06.928330Z"
    }
   },
   "source": [
    "# Explanatory Data Analysis"
   ]
  },
  {
   "cell_type": "code",
   "execution_count": 80,
   "metadata": {
    "ExecuteTime": {
     "end_time": "2020-11-09T20:56:54.253973Z",
     "start_time": "2020-11-09T20:56:54.246991Z"
    }
   },
   "outputs": [],
   "source": [
    "df1 = df.copy()"
   ]
  },
  {
   "cell_type": "code",
   "execution_count": 130,
   "metadata": {
    "ExecuteTime": {
     "end_time": "2020-11-09T21:05:38.732020Z",
     "start_time": "2020-11-09T21:05:38.726037Z"
    }
   },
   "outputs": [],
   "source": [
    "plt.rcParams['figure.figsize'] = (10,7)"
   ]
  },
  {
   "cell_type": "code",
   "execution_count": 82,
   "metadata": {
    "ExecuteTime": {
     "end_time": "2020-11-09T20:56:56.686471Z",
     "start_time": "2020-11-09T20:56:56.677493Z"
    }
   },
   "outputs": [
    {
     "data": {
      "text/plain": [
       "Index(['Id', 'Age', 'Default', 'Balance', 'HHInsurance', 'CarLoan',\n",
       "       'LastContactDay', 'NoOfContacts', 'DaysPassed', 'PrevAttempts',\n",
       "       'CarInsurance', 'Duration'],\n",
       "      dtype='object')"
      ]
     },
     "execution_count": 82,
     "metadata": {},
     "output_type": "execute_result"
    }
   ],
   "source": [
    "num_var = df._get_numeric_data().columns\n",
    "num_var"
   ]
  },
  {
   "cell_type": "code",
   "execution_count": 83,
   "metadata": {
    "ExecuteTime": {
     "end_time": "2020-11-09T20:57:03.028545Z",
     "start_time": "2020-11-09T20:57:00.959049Z"
    }
   },
   "outputs": [
    {
     "data": {
      "image/png": "[encoded data removed]",
      "text/plain": [
       "<Figure size 1008x720 with 12 Axes>"
      ]
     },
     "metadata": {
      "needs_background": "light"
     },
     "output_type": "display_data"
    }
   ],
   "source": [
    "df[num_var].hist(bins=20,color='g',figsize=(14,10))\n",
    "plt.show()"
   ]
  },
  {
   "cell_type": "code",
   "execution_count": 84,
   "metadata": {
    "ExecuteTime": {
     "end_time": "2020-11-09T20:57:03.036495Z",
     "start_time": "2020-11-09T20:57:03.031509Z"
    }
   },
   "outputs": [],
   "source": [
    "# Balance and Duration columns is positively skewed"
   ]
  },
  {
   "cell_type": "markdown",
   "metadata": {},
   "source": [
    "## Target ( CAR INSURANCE )"
   ]
  },
  {
   "cell_type": "code",
   "execution_count": 85,
   "metadata": {
    "ExecuteTime": {
     "end_time": "2020-11-09T20:57:03.074424Z",
     "start_time": "2020-11-09T20:57:03.039487Z"
    }
   },
   "outputs": [
    {
     "data": {
      "text/html": [
       "<div>\n",
       "<style scoped>\n",
       "    .dataframe tbody tr th:only-of-type {\n",
       "        vertical-align: middle;\n",
       "    }\n",
       "\n",
       "    .dataframe tbody tr th {\n",
       "        vertical-align: top;\n",
       "    }\n",
       "\n",
       "    .dataframe thead th {\n",
       "        text-align: right;\n",
       "    }\n",
       "</style>\n",
       "<table border=\"1\" class=\"dataframe\">\n",
       "  <thead>\n",
       "    <tr style=\"text-align: right;\">\n",
       "      <th>col_0</th>\n",
       "      <th>count</th>\n",
       "    </tr>\n",
       "    <tr>\n",
       "      <th>CarInsurance</th>\n",
       "      <th></th>\n",
       "    </tr>\n",
       "  </thead>\n",
       "  <tbody>\n",
       "    <tr>\n",
       "      <th>0</th>\n",
       "      <td>56.63</td>\n",
       "    </tr>\n",
       "    <tr>\n",
       "      <th>1</th>\n",
       "      <td>43.37</td>\n",
       "    </tr>\n",
       "  </tbody>\n",
       "</table>\n",
       "</div>"
      ],
      "text/plain": [
       "col_0         count\n",
       "CarInsurance       \n",
       "0             56.63\n",
       "1             43.37"
      ]
     },
     "execution_count": 85,
     "metadata": {},
     "output_type": "execute_result"
    }
   ],
   "source": [
    "(pd.crosstab(index=df1['CarInsurance'],columns='count', normalize= True)*100).round(2)"
   ]
  },
  {
   "cell_type": "code",
   "execution_count": 86,
   "metadata": {
    "ExecuteTime": {
     "end_time": "2020-11-09T20:57:03.253913Z",
     "start_time": "2020-11-09T20:57:03.078388Z"
    }
   },
   "outputs": [
    {
     "data": {
      "text/plain": [
       "Text(0, 0.5, '')"
      ]
     },
     "execution_count": 86,
     "metadata": {},
     "output_type": "execute_result"
    },
    {
     "data": {
      "image/png": "[encoded data removed]",
      "text/plain": [
       "<Figure size 720x720 with 1 Axes>"
      ]
     },
     "metadata": {},
     "output_type": "display_data"
    }
   ],
   "source": [
    "plt.figure(figsize=(10,10))\n",
    "plt.subplot(aspect=1, title='Vehicle Insurance Responses')\n",
    "colors = [\"gold\", \"red\"]\n",
    "labels =\"No\", \"Yes\"\n",
    "df1[\"CarInsurance\"].value_counts().plot.pie(explode=[0,0.1], autopct='%1.2f%%',shadow=True, colors=colors, \n",
    "                                             labels=labels, fontsize=15, startangle=45)\n",
    "\n",
    "plt.ylabel(\"\")\n",
    "\n",
    "    "
   ]
  },
  {
   "cell_type": "markdown",
   "metadata": {
    "ExecuteTime": {
     "end_time": "2020-11-09T20:50:36.936354Z",
     "start_time": "2020-11-09T20:50:36.931370Z"
    }
   },
   "source": [
    "## Marital"
   ]
  },
  {
   "cell_type": "code",
   "execution_count": 87,
   "metadata": {
    "ExecuteTime": {
     "end_time": "2020-11-09T20:57:03.477318Z",
     "start_time": "2020-11-09T20:57:03.256907Z"
    }
   },
   "outputs": [
    {
     "data": {
      "image/png": "[encoded data removed]",
      "text/plain": [
       "<Figure size 936x504 with 1 Axes>"
      ]
     },
     "metadata": {
      "needs_background": "light"
     },
     "output_type": "display_data"
    }
   ],
   "source": [
    "b= sns.countplot('Marital',hue='CarInsurance',data=df,palette= 'Set2_r',order= df1['Marital'].value_counts().index)\n",
    "for p in b.patches:\n",
    "    b.annotate(str(int(p.get_height())), (p.get_x() + p.get_width() / 2., p.get_height()), ha='center', va='center', xytext=(0, 10), textcoords='offset points') \n"
   ]
  },
  {
   "cell_type": "markdown",
   "metadata": {},
   "source": [
    "- Married people are most likely to buy car insurance, but the highest ratio is single status followed by divorced.\n",
    "- Probably, when single and divorced, they have a saving amounts compare to married who need more Saving\n"
   ]
  },
  {
   "cell_type": "code",
   "execution_count": 88,
   "metadata": {
    "ExecuteTime": {
     "end_time": "2020-11-09T20:57:04.641206Z",
     "start_time": "2020-11-09T20:57:03.480309Z"
    },
    "scrolled": true
   },
   "outputs": [
    {
     "data": {
      "image/png": "[encoded data removed]",
      "text/plain": [
       "<Figure size 2234.25x720 with 3 Axes>"
      ]
     },
     "metadata": {
      "needs_background": "light"
     },
     "output_type": "display_data"
    }
   ],
   "source": [
    "# plt.figure(figsize=(10,6)\n",
    "sns.catplot(x=\"Job\", hue=\"CarInsurance\", col=\"Marital\", data=df1, kind=\"count\", height=10, aspect=1)\n",
    "plt.tight_layout()\n",
    "plt.show()"
   ]
  },
  {
   "cell_type": "markdown",
   "metadata": {
    "ExecuteTime": {
     "end_time": "2020-11-09T20:52:29.274072Z",
     "start_time": "2020-11-09T20:52:29.269087Z"
    }
   },
   "source": [
    "## Job "
   ]
  },
  {
   "cell_type": "code",
   "execution_count": 89,
   "metadata": {
    "ExecuteTime": {
     "end_time": "2020-11-09T20:57:04.998250Z",
     "start_time": "2020-11-09T20:57:04.644197Z"
    }
   },
   "outputs": [
    {
     "data": {
      "image/png": "[encoded data removed]",
      "text/plain": [
       "<Figure size 1008x576 with 1 Axes>"
      ]
     },
     "metadata": {
      "needs_background": "light"
     },
     "output_type": "display_data"
    }
   ],
   "source": [
    "plt.figure(figsize=(14,8))\n",
    "df1_job = df1['Job'].value_counts().nlargest(15).astype(int)\n",
    "b = sns.barplot(df1_job.index, df1_job.values,palette= 'Set2_r')\n",
    "\n",
    "\n",
    "plt.title('Job')\n",
    "plt.xlabel('JOB',fontsize = 15)\n",
    "plt.ylabel('JOB COUNT',fontsize = 15)\n",
    "\n",
    "\n",
    "plt.xticks(\n",
    "    rotation=45, \n",
    "    horizontalalignment='right',\n",
    "    fontweight='light',\n",
    "    fontsize='medium'  \n",
    ")\n",
    "for p in b.patches:\n",
    "    b.annotate(str(int(p.get_height())), (p.get_x() + p.get_width() / 2., p.get_height()), ha='center', va='center', xytext=(0, 10), textcoords='offset points') \n"
   ]
  },
  {
   "cell_type": "markdown",
   "metadata": {
    "ExecuteTime": {
     "end_time": "2020-11-09T20:53:24.202245Z",
     "start_time": "2020-11-09T20:53:24.196295Z"
    }
   },
   "source": [
    "**Management is the most frequent job**"
   ]
  },
  {
   "cell_type": "code",
   "execution_count": 90,
   "metadata": {
    "ExecuteTime": {
     "end_time": "2020-11-09T20:57:05.500909Z",
     "start_time": "2020-11-09T20:57:05.003239Z"
    },
    "scrolled": true
   },
   "outputs": [
    {
     "data": {
      "image/png": "[encoded data removed]",
      "text/plain": [
       "<Figure size 1008x576 with 1 Axes>"
      ]
     },
     "metadata": {
      "needs_background": "light"
     },
     "output_type": "display_data"
    }
   ],
   "source": [
    "plt.figure(figsize=(14,8))\n",
    "b= sns.countplot('Job',hue='CarInsurance',data=df,palette= 'Set2_r',order=df1['Job'].value_counts().index)\n",
    "for p in b.patches:\n",
    "    b.annotate(str(int(p.get_height())), (p.get_x() + p.get_width() / 2., p.get_height()), ha='center', va='center', xytext=(0, 10), textcoords='offset points') \n"
   ]
  },
  {
   "cell_type": "markdown",
   "metadata": {},
   "source": [
    "- Student is the highest rate to buy insurance, followed by retired and unemployed"
   ]
  },
  {
   "cell_type": "markdown",
   "metadata": {
    "ExecuteTime": {
     "end_time": "2020-11-09T20:54:47.284366Z",
     "start_time": "2020-11-09T20:54:47.279378Z"
    }
   },
   "source": [
    "## AGE"
   ]
  },
  {
   "cell_type": "code",
   "execution_count": 96,
   "metadata": {
    "ExecuteTime": {
     "end_time": "2020-11-09T20:57:35.671264Z",
     "start_time": "2020-11-09T20:57:35.403978Z"
    }
   },
   "outputs": [
    {
     "data": {
      "image/png": "[encoded data removed]",
      "text/plain": [
       "<Figure size 1008x432 with 1 Axes>"
      ]
     },
     "metadata": {
      "needs_background": "light"
     },
     "output_type": "display_data"
    }
   ],
   "source": [
    "plt.figure(figsize=(14,6))\n",
    "df1[\"age_group\"]=pd.cut(df1.Age,bins=[0,30,40,50,60,df['Age'].max()],labels=['Young','Mid-Age','Adult',\"Old\",'Elder'])\n",
    "b= sns.countplot(data=df1,x=\"age_group\",hue=\"CarInsurance\",palette=\"Set2_r\")\n",
    "\n",
    "for p in b.patches:\n",
    "    b.annotate(str(int(p.get_height())), (p.get_x() + p.get_width() / 2., p.get_height()), ha='center', va='center', xytext=(0, 10), textcoords='offset points') \n",
    "\n"
   ]
  },
  {
   "cell_type": "markdown",
   "metadata": {
    "ExecuteTime": {
     "end_time": "2020-11-09T20:58:02.163446Z",
     "start_time": "2020-11-09T20:58:02.157464Z"
    }
   },
   "source": [
    "- Elder group are more likely to buy car insurances with the highest rate"
   ]
  },
  {
   "cell_type": "markdown",
   "metadata": {
    "ExecuteTime": {
     "end_time": "2020-11-09T20:58:14.564299Z",
     "start_time": "2020-11-09T20:58:14.559313Z"
    }
   },
   "source": [
    "## EDUCATION"
   ]
  },
  {
   "cell_type": "code",
   "execution_count": 100,
   "metadata": {
    "ExecuteTime": {
     "end_time": "2020-11-09T20:58:34.195822Z",
     "start_time": "2020-11-09T20:58:33.976410Z"
    }
   },
   "outputs": [
    {
     "data": {
      "image/png": "[encoded data removed]",
      "text/plain": [
       "<Figure size 720x504 with 1 Axes>"
      ]
     },
     "metadata": {
      "needs_background": "light"
     },
     "output_type": "display_data"
    }
   ],
   "source": [
    "plt.figure(figsize=(10,7))\n",
    "b= sns.countplot('Education',hue='CarInsurance',data=df1,palette= 'Set2_r',order= df1['Education'].value_counts().index)\n",
    "for p in b.patches:\n",
    "    b.annotate(str(int(p.get_height())), (p.get_x() + p.get_width() / 2., p.get_height()), ha='center', va='center', xytext=(0, 10), textcoords='offset points') \n"
   ]
  },
  {
   "cell_type": "markdown",
   "metadata": {},
   "source": [
    "- higher education is most likely to buy insurance\n",
    "- tertiary education is the highest rate who buy insurance\n"
   ]
  },
  {
   "cell_type": "markdown",
   "metadata": {
    "ExecuteTime": {
     "end_time": "2020-11-09T20:59:01.577631Z",
     "start_time": "2020-11-09T20:59:01.572647Z"
    }
   },
   "source": [
    "## LAST MONTH CONTACT"
   ]
  },
  {
   "cell_type": "code",
   "execution_count": 102,
   "metadata": {
    "ExecuteTime": {
     "end_time": "2020-11-09T20:59:10.398054Z",
     "start_time": "2020-11-09T20:59:10.059958Z"
    }
   },
   "outputs": [
    {
     "data": {
      "image/png": "[encoded data removed]",
      "text/plain": [
       "<Figure size 720x360 with 1 Axes>"
      ]
     },
     "metadata": {
      "needs_background": "light"
     },
     "output_type": "display_data"
    }
   ],
   "source": [
    "plt.figure(figsize=(10,5))\n",
    "sns.countplot(x=\"LastContactMonth\",hue=\"CarInsurance\",palette=\"Set2_r\",data=df1,order=(\"jan\",\"feb\",\"mar\",\"apr\",\"may\",\"jun\",\"jul\",\"aug\",\"sep\",\"oct\",\"nov\",\"dec\"))\n",
    "plt.show()"
   ]
  },
  {
   "cell_type": "markdown",
   "metadata": {
    "ExecuteTime": {
     "end_time": "2020-11-09T20:59:16.714169Z",
     "start_time": "2020-11-09T20:59:16.707188Z"
    }
   },
   "source": [
    "- most distributed data are on may\n",
    "- compared to months contacted, on March, September, October, and December is the highest rate to buy insurance.\n",
    "- probably the previous marketing is targeting in these months period"
   ]
  },
  {
   "cell_type": "markdown",
   "metadata": {},
   "source": [
    "## Way to Communicate"
   ]
  },
  {
   "cell_type": "code",
   "execution_count": 127,
   "metadata": {
    "ExecuteTime": {
     "end_time": "2020-11-09T21:05:00.807397Z",
     "start_time": "2020-11-09T21:05:00.568035Z"
    }
   },
   "outputs": [
    {
     "data": {
      "image/png": "[encoded data removed]",
      "text/plain": [
       "<Figure size 720x504 with 1 Axes>"
      ]
     },
     "metadata": {
      "needs_background": "light"
     },
     "output_type": "display_data"
    }
   ],
   "source": [
    "plt.figure(figsize=(10,7))\n",
    "b= sns.countplot(x=\"Communication\",hue=\"CarInsurance\",palette=\"Set2_r\",data=df1)\n",
    "for p in b.patches:\n",
    "    b.annotate(str(int(p.get_height())), (p.get_x() + p.get_width() / 2., p.get_height()), ha='center', va='center', xytext=(0, 10), textcoords='offset points') \n",
    "\n",
    "plt.show()"
   ]
  },
  {
   "cell_type": "markdown",
   "metadata": {},
   "source": [
    "- Marketing is focusing contact the next customer by celullar instead of telephone. People these days is always using their cellphone instead of staying at home and respond to telephone call at home"
   ]
  },
  {
   "cell_type": "markdown",
   "metadata": {
    "ExecuteTime": {
     "end_time": "2020-11-09T21:00:51.907715Z",
     "start_time": "2020-11-09T21:00:51.903724Z"
    }
   },
   "source": [
    "## Outcome"
   ]
  },
  {
   "cell_type": "code",
   "execution_count": 126,
   "metadata": {
    "ExecuteTime": {
     "end_time": "2020-11-09T21:04:54.123263Z",
     "start_time": "2020-11-09T21:04:53.899859Z"
    }
   },
   "outputs": [
    {
     "data": {
      "image/png": "[encoded data removed]",
      "text/plain": [
       "<Figure size 720x504 with 1 Axes>"
      ]
     },
     "metadata": {
      "needs_background": "light"
     },
     "output_type": "display_data"
    }
   ],
   "source": [
    "plt.figure(figsize=(10,7))\n",
    "b=sns.countplot(x=\"Outcome\",hue=\"CarInsurance\",palette=\"Set2_r\",data=df1)\n",
    "for p in b.patches:\n",
    "    b.annotate(str(int(p.get_height())), (p.get_x() + p.get_width() / 2., p.get_height()), ha='center', va='center', xytext=(0, 10), textcoords='offset points') \n",
    "\n",
    "plt.show()"
   ]
  },
  {
   "cell_type": "markdown",
   "metadata": {},
   "source": [
    "- the customer is most likely want to buy the insurance after the campaign"
   ]
  },
  {
   "cell_type": "markdown",
   "metadata": {
    "ExecuteTime": {
     "end_time": "2020-11-09T21:01:52.259394Z",
     "start_time": "2020-11-09T21:01:52.254404Z"
    }
   },
   "source": [
    "## Duration call"
   ]
  },
  {
   "cell_type": "code",
   "execution_count": 112,
   "metadata": {
    "ExecuteTime": {
     "end_time": "2020-11-09T21:02:14.115968Z",
     "start_time": "2020-11-09T21:02:14.098016Z"
    }
   },
   "outputs": [
    {
     "data": {
      "text/plain": [
       "0       below_average\n",
       "1       below_average\n",
       "2       below_average\n",
       "3       above_average\n",
       "4       below_average\n",
       "            ...      \n",
       "3991    below_average\n",
       "3993    below_average\n",
       "3996    below_average\n",
       "3998    below_average\n",
       "3999    below_average\n",
       "Name: duration_status, Length: 2799, dtype: object"
      ]
     },
     "execution_count": 112,
     "metadata": {},
     "output_type": "execute_result"
    }
   ],
   "source": [
    "avg_duration = df1['Duration'].mean()\n",
    "\n",
    "lst = [df1]\n",
    "df1[\"duration_status\"] = np.nan\n",
    "\n",
    "for col in lst:\n",
    "    col.loc[col[\"Duration\"] < avg_duration, \"duration_status\"] = \"below_average\"\n",
    "    col.loc[col[\"Duration\"] > avg_duration, \"duration_status\"] = \"above_average\"\n",
    "\n",
    "    \n",
    "df1['duration_status']"
   ]
  },
  {
   "cell_type": "code",
   "execution_count": 114,
   "metadata": {
    "ExecuteTime": {
     "end_time": "2020-11-09T21:02:38.501782Z",
     "start_time": "2020-11-09T21:02:38.103848Z"
    }
   },
   "outputs": [],
   "source": [
    "duration_percent = pd.crosstab(df1['duration_status'], df1['CarInsurance'],normalize ='index')"
   ]
  },
  {
   "cell_type": "code",
   "execution_count": 115,
   "metadata": {
    "ExecuteTime": {
     "end_time": "2020-11-09T21:02:44.388050Z",
     "start_time": "2020-11-09T21:02:44.372092Z"
    }
   },
   "outputs": [
    {
     "data": {
      "text/html": [
       "<div>\n",
       "<style scoped>\n",
       "    .dataframe tbody tr th:only-of-type {\n",
       "        vertical-align: middle;\n",
       "    }\n",
       "\n",
       "    .dataframe tbody tr th {\n",
       "        vertical-align: top;\n",
       "    }\n",
       "\n",
       "    .dataframe thead th {\n",
       "        text-align: right;\n",
       "    }\n",
       "</style>\n",
       "<table border=\"1\" class=\"dataframe\">\n",
       "  <thead>\n",
       "    <tr style=\"text-align: right;\">\n",
       "      <th>CarInsurance</th>\n",
       "      <th>0</th>\n",
       "      <th>1</th>\n",
       "    </tr>\n",
       "    <tr>\n",
       "      <th>duration_status</th>\n",
       "      <th></th>\n",
       "      <th></th>\n",
       "    </tr>\n",
       "  </thead>\n",
       "  <tbody>\n",
       "    <tr>\n",
       "      <th>above_average</th>\n",
       "      <td>0.28</td>\n",
       "      <td>0.72</td>\n",
       "    </tr>\n",
       "    <tr>\n",
       "      <th>below_average</th>\n",
       "      <td>0.72</td>\n",
       "      <td>0.28</td>\n",
       "    </tr>\n",
       "  </tbody>\n",
       "</table>\n",
       "</div>"
      ],
      "text/plain": [
       "CarInsurance        0     1\n",
       "duration_status            \n",
       "above_average    0.28  0.72\n",
       "below_average    0.72  0.28"
      ]
     },
     "execution_count": 115,
     "metadata": {},
     "output_type": "execute_result"
    }
   ],
   "source": [
    "duration_percent.round(2)"
   ]
  },
  {
   "cell_type": "code",
   "execution_count": 116,
   "metadata": {
    "ExecuteTime": {
     "end_time": "2020-11-09T21:02:54.520966Z",
     "start_time": "2020-11-09T21:02:54.293572Z"
    }
   },
   "outputs": [
    {
     "data": {
      "text/plain": [
       "<AxesSubplot:xlabel='duration_status'>"
      ]
     },
     "execution_count": 116,
     "metadata": {},
     "output_type": "execute_result"
    },
    {
     "data": {
      "image/png": "[encoded data removed]",
      "text/plain": [
       "<Figure size 360x216 with 1 Axes>"
      ]
     },
     "metadata": {
      "needs_background": "light"
     },
     "output_type": "display_data"
    }
   ],
   "source": [
    "duration_percent.plot(kind='bar',cmap='Set2_r')"
   ]
  },
  {
   "cell_type": "markdown",
   "metadata": {
    "ExecuteTime": {
     "end_time": "2020-11-09T21:03:07.387570Z",
     "start_time": "2020-11-09T21:03:07.380590Z"
    }
   },
   "source": [
    "- It is obvious, The longer the conversations on the phone, the higher interest the customer will show to buy the insurance"
   ]
  },
  {
   "cell_type": "markdown",
   "metadata": {
    "ExecuteTime": {
     "end_time": "2020-11-09T21:03:24.713258Z",
     "start_time": "2020-11-09T21:03:24.708274Z"
    }
   },
   "source": [
    "## CAR LOAN"
   ]
  },
  {
   "cell_type": "code",
   "execution_count": 129,
   "metadata": {
    "ExecuteTime": {
     "end_time": "2020-11-09T21:05:22.954199Z",
     "start_time": "2020-11-09T21:05:22.759716Z"
    }
   },
   "outputs": [
    {
     "data": {
      "image/png": "[encoded data removed]",
      "text/plain": [
       "<Figure size 720x504 with 1 Axes>"
      ]
     },
     "metadata": {
      "needs_background": "light"
     },
     "output_type": "display_data"
    }
   ],
   "source": [
    "plt.figure(figsize=(10,7))\n",
    "b=sns.countplot(x=\"CarLoan\",hue=\"CarInsurance\",palette=\"Set2_r\",data=df1)\n",
    "for p in b.patches:\n",
    "    b.annotate(str(int(p.get_height())), (p.get_x() + p.get_width() / 2., p.get_height()), ha='center', va='center', xytext=(0, 10), textcoords='offset points') \n",
    "\n",
    "plt.show()"
   ]
  },
  {
   "cell_type": "markdown",
   "metadata": {},
   "source": [
    "- People who have loaned a car, do not want to buy "
   ]
  },
  {
   "cell_type": "markdown",
   "metadata": {},
   "source": [
    "# FEATURE ENGINEERING AND SELECTIONS"
   ]
  },
  {
   "cell_type": "code",
   "execution_count": 133,
   "metadata": {
    "ExecuteTime": {
     "end_time": "2020-11-09T21:06:37.602659Z",
     "start_time": "2020-11-09T21:06:36.524539Z"
    }
   },
   "outputs": [
    {
     "data": {
      "text/plain": [
       "<AxesSubplot:>"
      ]
     },
     "execution_count": 133,
     "metadata": {},
     "output_type": "execute_result"
    },
    {
     "data": {
      "image/png": "[encoded data removed]",
      "text/plain": [
       "<Figure size 1224x504 with 2 Axes>"
      ]
     },
     "metadata": {
      "needs_background": "light"
     },
     "output_type": "display_data"
    }
   ],
   "source": [
    "plt.figure(figsize=(17,7))\n",
    "corr = df1.corr()\n",
    "sns.heatmap(corr,cmap = 'viridis', annot= True, linewidth = 0.5)"
   ]
  },
  {
   "cell_type": "code",
   "execution_count": 134,
   "metadata": {
    "ExecuteTime": {
     "end_time": "2020-11-09T21:07:26.654540Z",
     "start_time": "2020-11-09T21:07:26.515911Z"
    }
   },
   "outputs": [
    {
     "data": {
      "text/html": [
       "<style  type=\"text/css\" >\n",
       "#T_91e8e34a_22cf_11eb_8560_8c1645d12c3brow0_col0{\n",
       "            background-color:  #0000ff;\n",
       "            color:  #f1f1f1;\n",
       "        }#T_91e8e34a_22cf_11eb_8560_8c1645d12c3brow1_col0{\n",
       "            background-color:  #6b6bfa;\n",
       "            color:  #000000;\n",
       "        }#T_91e8e34a_22cf_11eb_8560_8c1645d12c3brow2_col0{\n",
       "            background-color:  #a8a8f6;\n",
       "            color:  #000000;\n",
       "        }#T_91e8e34a_22cf_11eb_8560_8c1645d12c3brow3_col0{\n",
       "            background-color:  #ababf6;\n",
       "            color:  #000000;\n",
       "        }#T_91e8e34a_22cf_11eb_8560_8c1645d12c3brow4_col0{\n",
       "            background-color:  #b9b9f6;\n",
       "            color:  #000000;\n",
       "        }#T_91e8e34a_22cf_11eb_8560_8c1645d12c3brow5_col0{\n",
       "            background-color:  #bfbff5;\n",
       "            color:  #000000;\n",
       "        }#T_91e8e34a_22cf_11eb_8560_8c1645d12c3brow6_col0{\n",
       "            background-color:  #c6c6f5;\n",
       "            color:  #000000;\n",
       "        }#T_91e8e34a_22cf_11eb_8560_8c1645d12c3brow7_col0{\n",
       "            background-color:  #cdcdf5;\n",
       "            color:  #000000;\n",
       "        }#T_91e8e34a_22cf_11eb_8560_8c1645d12c3brow8_col0{\n",
       "            background-color:  #cecef5;\n",
       "            color:  #000000;\n",
       "        }#T_91e8e34a_22cf_11eb_8560_8c1645d12c3brow9_col0,#T_91e8e34a_22cf_11eb_8560_8c1645d12c3brow10_col0{\n",
       "            background-color:  #dadaf4;\n",
       "            color:  #000000;\n",
       "        }#T_91e8e34a_22cf_11eb_8560_8c1645d12c3brow11_col0{\n",
       "            background-color:  #f0f0f3;\n",
       "            color:  #000000;\n",
       "        }</style><table id=\"T_91e8e34a_22cf_11eb_8560_8c1645d12c3b\" ><thead>    <tr>        <th class=\"blank level0\" ></th>        <th class=\"col_heading level0 col0\" >CarInsurance</th>    </tr></thead><tbody>\n",
       "                <tr>\n",
       "                        <th id=\"T_91e8e34a_22cf_11eb_8560_8c1645d12c3blevel0_row0\" class=\"row_heading level0 row0\" >CarInsurance</th>\n",
       "                        <td id=\"T_91e8e34a_22cf_11eb_8560_8c1645d12c3brow0_col0\" class=\"data row0 col0\" >1.000000</td>\n",
       "            </tr>\n",
       "            <tr>\n",
       "                        <th id=\"T_91e8e34a_22cf_11eb_8560_8c1645d12c3blevel0_row1\" class=\"row_heading level0 row1\" >Duration</th>\n",
       "                        <td id=\"T_91e8e34a_22cf_11eb_8560_8c1645d12c3brow1_col0\" class=\"data row1 col0\" >0.451833</td>\n",
       "            </tr>\n",
       "            <tr>\n",
       "                        <th id=\"T_91e8e34a_22cf_11eb_8560_8c1645d12c3blevel0_row2\" class=\"row_heading level0 row2\" >PrevAttempts</th>\n",
       "                        <td id=\"T_91e8e34a_22cf_11eb_8560_8c1645d12c3brow2_col0\" class=\"data row2 col0\" >0.149010</td>\n",
       "            </tr>\n",
       "            <tr>\n",
       "                        <th id=\"T_91e8e34a_22cf_11eb_8560_8c1645d12c3blevel0_row3\" class=\"row_heading level0 row3\" >DaysPassed</th>\n",
       "                        <td id=\"T_91e8e34a_22cf_11eb_8560_8c1645d12c3brow3_col0\" class=\"data row3 col0\" >0.134181</td>\n",
       "            </tr>\n",
       "            <tr>\n",
       "                        <th id=\"T_91e8e34a_22cf_11eb_8560_8c1645d12c3blevel0_row4\" class=\"row_heading level0 row4\" >Balance</th>\n",
       "                        <td id=\"T_91e8e34a_22cf_11eb_8560_8c1645d12c3brow4_col0\" class=\"data row4 col0\" >0.065184</td>\n",
       "            </tr>\n",
       "            <tr>\n",
       "                        <th id=\"T_91e8e34a_22cf_11eb_8560_8c1645d12c3blevel0_row5\" class=\"row_heading level0 row5\" >Age</th>\n",
       "                        <td id=\"T_91e8e34a_22cf_11eb_8560_8c1645d12c3brow5_col0\" class=\"data row5 col0\" >0.029313</td>\n",
       "            </tr>\n",
       "            <tr>\n",
       "                        <th id=\"T_91e8e34a_22cf_11eb_8560_8c1645d12c3blevel0_row6\" class=\"row_heading level0 row6\" >Default</th>\n",
       "                        <td id=\"T_91e8e34a_22cf_11eb_8560_8c1645d12c3brow6_col0\" class=\"data row6 col0\" >-0.002259</td>\n",
       "            </tr>\n",
       "            <tr>\n",
       "                        <th id=\"T_91e8e34a_22cf_11eb_8560_8c1645d12c3blevel0_row7\" class=\"row_heading level0 row7\" >Id</th>\n",
       "                        <td id=\"T_91e8e34a_22cf_11eb_8560_8c1645d12c3brow7_col0\" class=\"data row7 col0\" >-0.035039</td>\n",
       "            </tr>\n",
       "            <tr>\n",
       "                        <th id=\"T_91e8e34a_22cf_11eb_8560_8c1645d12c3blevel0_row8\" class=\"row_heading level0 row8\" >LastContactDay</th>\n",
       "                        <td id=\"T_91e8e34a_22cf_11eb_8560_8c1645d12c3brow8_col0\" class=\"data row8 col0\" >-0.041928</td>\n",
       "            </tr>\n",
       "            <tr>\n",
       "                        <th id=\"T_91e8e34a_22cf_11eb_8560_8c1645d12c3blevel0_row9\" class=\"row_heading level0 row9\" >NoOfContacts</th>\n",
       "                        <td id=\"T_91e8e34a_22cf_11eb_8560_8c1645d12c3brow9_col0\" class=\"data row9 col0\" >-0.105061</td>\n",
       "            </tr>\n",
       "            <tr>\n",
       "                        <th id=\"T_91e8e34a_22cf_11eb_8560_8c1645d12c3blevel0_row10\" class=\"row_heading level0 row10\" >CarLoan</th>\n",
       "                        <td id=\"T_91e8e34a_22cf_11eb_8560_8c1645d12c3brow10_col0\" class=\"data row10 col0\" >-0.105097</td>\n",
       "            </tr>\n",
       "            <tr>\n",
       "                        <th id=\"T_91e8e34a_22cf_11eb_8560_8c1645d12c3blevel0_row11\" class=\"row_heading level0 row11\" >HHInsurance</th>\n",
       "                        <td id=\"T_91e8e34a_22cf_11eb_8560_8c1645d12c3brow11_col0\" class=\"data row11 col0\" >-0.220870</td>\n",
       "            </tr>\n",
       "    </tbody></table>"
      ],
      "text/plain": [
       "<pandas.io.formats.style.Styler at 0x170812bafc8>"
      ]
     },
     "execution_count": 134,
     "metadata": {},
     "output_type": "execute_result"
    }
   ],
   "source": [
    "num_top10_corr = df.corr()['CarInsurance'].sort_values(ascending=False).head(20).to_frame()\n",
    "cm = sns.light_palette(\"blue\", as_cmap=True)\n",
    "s = num_top10_corr.style.background_gradient(cmap=cm)\n",
    "s"
   ]
  },
  {
   "cell_type": "markdown",
   "metadata": {},
   "source": [
    "- DURATION has high correlation with Target.\n",
    "- i will selecting the feature after binning and encoding"
   ]
  },
  {
   "cell_type": "markdown",
   "metadata": {},
   "source": [
    "## BINNING, ENCODING"
   ]
  },
  {
   "cell_type": "markdown",
   "metadata": {
    "ExecuteTime": {
     "end_time": "2020-11-09T21:09:12.036850Z",
     "start_time": "2020-11-09T21:09:12.032861Z"
    }
   },
   "source": [
    "### BALANCE"
   ]
  },
  {
   "cell_type": "code",
   "execution_count": 136,
   "metadata": {
    "ExecuteTime": {
     "end_time": "2020-11-09T21:09:20.487653Z",
     "start_time": "2020-11-09T21:09:20.456747Z"
    }
   },
   "outputs": [
    {
     "data": {
      "text/plain": [
       "[(106.823, 1657.25], (1657.25, 3201.5], (3201.5, 4745.75], (4745.75, 6290.0]]\n",
       "Categories (4, interval[float64]): [(106.823, 1657.25] < (1657.25, 3201.5] < (3201.5, 4745.75] < (4745.75, 6290.0]]"
      ]
     },
     "execution_count": 136,
     "metadata": {},
     "output_type": "execute_result"
    }
   ],
   "source": [
    "pd.cut(df1['Balance'],4).unique()"
   ]
  },
  {
   "cell_type": "code",
   "execution_count": 137,
   "metadata": {
    "ExecuteTime": {
     "end_time": "2020-11-09T21:10:05.024733Z",
     "start_time": "2020-11-09T21:10:05.009618Z"
    }
   },
   "outputs": [],
   "source": [
    "df1.loc[df1['Balance'] <= 1657.25, 'Balance'] = 0\n",
    "df1.loc[(df1['Balance'] > 1657.25) & (df1['Balance'] <= 3201.5), 'Balance'] = 1\n",
    "df1.loc[(df1['Balance'] > 3201.5) & (df1['Balance'] <= 4745.75), 'Balance'] = 2\n",
    "df1.loc[df1['Balance'] > 4745.75 , 'Balance'] = 3"
   ]
  },
  {
   "cell_type": "code",
   "execution_count": 138,
   "metadata": {
    "ExecuteTime": {
     "end_time": "2020-11-09T21:10:11.087370Z",
     "start_time": "2020-11-09T21:10:10.878928Z"
    }
   },
   "outputs": [
    {
     "data": {
      "text/plain": [
       "<matplotlib.legend.Legend at 0x17082bcb408>"
      ]
     },
     "execution_count": 138,
     "metadata": {},
     "output_type": "execute_result"
    },
    {
     "data": {
      "image/png": "[encoded data removed]",
      "text/plain": [
       "<Figure size 720x216 with 1 Axes>"
      ]
     },
     "metadata": {
      "needs_background": "light"
     },
     "output_type": "display_data"
    }
   ],
   "source": [
    "fig, ax = plt.subplots(figsize=(10,3))\n",
    "g = sns.countplot(data=df1,x='Balance',hue='CarInsurance',palette= 'rocket',saturation= 1)\n",
    "g.legend(loc='center right', bbox_to_anchor=(1.1, 0.5), ncol=1)"
   ]
  },
  {
   "cell_type": "markdown",
   "metadata": {
    "ExecuteTime": {
     "end_time": "2020-11-09T21:10:31.190638Z",
     "start_time": "2020-11-09T21:10:31.185648Z"
    }
   },
   "source": [
    "### DURATION CALL STATUS"
   ]
  },
  {
   "cell_type": "code",
   "execution_count": 140,
   "metadata": {
    "ExecuteTime": {
     "end_time": "2020-11-09T21:10:39.680943Z",
     "start_time": "2020-11-09T21:10:39.671963Z"
    }
   },
   "outputs": [],
   "source": [
    "df1['duration_status'] = df1['duration_status'].map({'below_average' : 0 , 'above_average' : 1})"
   ]
  },
  {
   "cell_type": "markdown",
   "metadata": {
    "ExecuteTime": {
     "end_time": "2020-11-09T21:10:55.256339Z",
     "start_time": "2020-11-09T21:10:55.252346Z"
    }
   },
   "source": [
    "### AGE GROUP"
   ]
  },
  {
   "cell_type": "code",
   "execution_count": 142,
   "metadata": {
    "ExecuteTime": {
     "end_time": "2020-11-09T21:11:08.514867Z",
     "start_time": "2020-11-09T21:11:08.505890Z"
    }
   },
   "outputs": [
    {
     "data": {
      "text/plain": [
       "['Mid-Age', 'Young', 'Adult', 'Old', 'Elder']\n",
       "Categories (5, object): ['Young' < 'Mid-Age' < 'Adult' < 'Old' < 'Elder']"
      ]
     },
     "execution_count": 142,
     "metadata": {},
     "output_type": "execute_result"
    }
   ],
   "source": [
    "df1['age_group'].unique()"
   ]
  },
  {
   "cell_type": "code",
   "execution_count": 143,
   "metadata": {
    "ExecuteTime": {
     "end_time": "2020-11-09T21:11:14.153793Z",
     "start_time": "2020-11-09T21:11:14.145811Z"
    }
   },
   "outputs": [],
   "source": [
    "df1['age_group'] = df1['age_group'].map({'Young' : 0 , 'Mid-Age' : 1, 'Adult' : 2, 'Old': 3, 'Elder' : 4})"
   ]
  },
  {
   "cell_type": "markdown",
   "metadata": {
    "ExecuteTime": {
     "end_time": "2020-11-09T21:11:47.124658Z",
     "start_time": "2020-11-09T21:11:47.119676Z"
    }
   },
   "source": [
    "### EDUCATION"
   ]
  },
  {
   "cell_type": "code",
   "execution_count": 145,
   "metadata": {
    "ExecuteTime": {
     "end_time": "2020-11-09T21:11:55.103331Z",
     "start_time": "2020-11-09T21:11:55.094356Z"
    }
   },
   "outputs": [
    {
     "data": {
      "text/plain": [
       "array(['tertiary', 'primary', 'secondary'], dtype=object)"
      ]
     },
     "execution_count": 145,
     "metadata": {},
     "output_type": "execute_result"
    }
   ],
   "source": [
    "df1.Education.unique()"
   ]
  },
  {
   "cell_type": "code",
   "execution_count": 146,
   "metadata": {
    "ExecuteTime": {
     "end_time": "2020-11-09T21:12:17.508444Z",
     "start_time": "2020-11-09T21:12:17.498470Z"
    }
   },
   "outputs": [],
   "source": [
    "df1['Education'] = df1['Education'].map({'secondary' : 1, 'primary' : 2, 'tertiary': 3})"
   ]
  },
  {
   "cell_type": "markdown",
   "metadata": {},
   "source": [
    "### MARITAL"
   ]
  },
  {
   "cell_type": "code",
   "execution_count": 147,
   "metadata": {
    "ExecuteTime": {
     "end_time": "2020-11-09T21:12:46.744295Z",
     "start_time": "2020-11-09T21:12:46.737341Z"
    }
   },
   "outputs": [
    {
     "data": {
      "text/plain": [
       "array(['single', 'married', 'divorced'], dtype=object)"
      ]
     },
     "execution_count": 147,
     "metadata": {},
     "output_type": "execute_result"
    }
   ],
   "source": [
    "df1.Marital.unique()"
   ]
  },
  {
   "cell_type": "code",
   "execution_count": 148,
   "metadata": {
    "ExecuteTime": {
     "end_time": "2020-11-09T21:12:51.777840Z",
     "start_time": "2020-11-09T21:12:51.768865Z"
    }
   },
   "outputs": [],
   "source": [
    "df1['Marital'] = df1['Marital'].map({'single' : 0 , 'married' : 1, 'divorced' : 2})"
   ]
  },
  {
   "cell_type": "markdown",
   "metadata": {
    "ExecuteTime": {
     "end_time": "2020-11-09T21:13:07.052011Z",
     "start_time": "2020-11-09T21:13:07.047025Z"
    }
   },
   "source": [
    "### COMMUNICATION"
   ]
  },
  {
   "cell_type": "code",
   "execution_count": 150,
   "metadata": {
    "ExecuteTime": {
     "end_time": "2020-11-09T21:13:10.993474Z",
     "start_time": "2020-11-09T21:13:10.985496Z"
    }
   },
   "outputs": [
    {
     "data": {
      "text/plain": [
       "array(['telephone', 'cellular'], dtype=object)"
      ]
     },
     "execution_count": 150,
     "metadata": {},
     "output_type": "execute_result"
    }
   ],
   "source": [
    "df1.Communication.unique()"
   ]
  },
  {
   "cell_type": "code",
   "execution_count": 151,
   "metadata": {
    "ExecuteTime": {
     "end_time": "2020-11-09T21:13:16.184602Z",
     "start_time": "2020-11-09T21:13:16.175630Z"
    }
   },
   "outputs": [],
   "source": [
    "df1['Communication'] = df1['Communication'].map({'telephone' : 0 , 'cellular' : 1})"
   ]
  },
  {
   "cell_type": "markdown",
   "metadata": {
    "ExecuteTime": {
     "end_time": "2020-11-09T21:13:33.036552Z",
     "start_time": "2020-11-09T21:13:33.031568Z"
    }
   },
   "source": [
    "### OUTCOME"
   ]
  },
  {
   "cell_type": "code",
   "execution_count": 153,
   "metadata": {
    "ExecuteTime": {
     "end_time": "2020-11-09T21:15:02.348335Z",
     "start_time": "2020-11-09T21:15:02.340329Z"
    }
   },
   "outputs": [
    {
     "data": {
      "text/plain": [
       "array(['failure', 'other', 'success'], dtype=object)"
      ]
     },
     "execution_count": 153,
     "metadata": {},
     "output_type": "execute_result"
    }
   ],
   "source": [
    "df1.Outcome.unique()"
   ]
  },
  {
   "cell_type": "code",
   "execution_count": 154,
   "metadata": {
    "ExecuteTime": {
     "end_time": "2020-11-09T21:15:09.910095Z",
     "start_time": "2020-11-09T21:15:09.902116Z"
    }
   },
   "outputs": [],
   "source": [
    "df1['Outcome'] = df1['Outcome'].map({'failure' : 0 , 'success' : 1,'other': 2})"
   ]
  },
  {
   "cell_type": "markdown",
   "metadata": {
    "ExecuteTime": {
     "end_time": "2020-11-09T21:15:38.591428Z",
     "start_time": "2020-11-09T21:15:38.586440Z"
    }
   },
   "source": [
    "### LAST CONTACT MONTH"
   ]
  },
  {
   "cell_type": "code",
   "execution_count": 156,
   "metadata": {
    "ExecuteTime": {
     "end_time": "2020-11-09T21:15:54.130889Z",
     "start_time": "2020-11-09T21:15:54.122911Z"
    }
   },
   "outputs": [],
   "source": [
    "df1['Month'] = df1['LastContactMonth'].map({'jan': 1, 'feb':2, 'mar':3,'apr':4,'may':5,'jun':6,'jul':7,'aug':8,'sep':9,'oct':10,'nov':11,'dec':12})"
   ]
  },
  {
   "cell_type": "markdown",
   "metadata": {
    "ExecuteTime": {
     "end_time": "2020-11-09T21:17:52.582196Z",
     "start_time": "2020-11-09T21:17:52.577209Z"
    }
   },
   "source": [
    "### DaysPassed"
   ]
  },
  {
   "cell_type": "code",
   "execution_count": 162,
   "metadata": {
    "ExecuteTime": {
     "end_time": "2020-11-09T21:19:00.219494Z",
     "start_time": "2020-11-09T21:19:00.211515Z"
    },
    "collapsed": true
   },
   "outputs": [
    {
     "data": {
      "text/plain": [
       "array([ -1, 119, 109,  97, 169, 558, 176, 171, 327,  94, 183, 320,  86,\n",
       "       184, 728, 105, 122, 317,  90, 412, 155, 350,  92,   1, 179, 107,\n",
       "        88, 291, 330,  87, 194, 368, 270, 161, 188, 178, 532, 213,  81,\n",
       "       221, 370, 433, 307, 170, 325, 262, 100,  95, 385, 134,  56, 273,\n",
       "       182, 106, 323, 138, 246,  93, 133, 252, 301, 238,  98, 195, 204,\n",
       "       363, 205,  91, 287, 186, 172, 173, 187,  96, 828, 103, 181, 544,\n",
       "        73, 364, 126, 110, 104, 180, 295, 365, 185, 331, 177, 351, 217,\n",
       "       152,  13, 409, 130, 114, 141, 247, 151, 189, 322, 165, 164, 306,\n",
       "       298, 337, 264, 293, 324, 415, 346,  57, 116, 258,  80,  67, 384,\n",
       "        84, 292, 271,  38,  89, 343, 361, 148, 683, 191, 239,  44, 272,\n",
       "       340, 297, 294, 267, 193, 321, 495, 154,  43, 208,  36, 147, 775,\n",
       "       175, 353, 232, 276, 257, 108, 212, 101, 226, 254,  76, 388, 158,\n",
       "       280, 279, 113,  83, 196, 202, 316,   2, 248, 366, 203, 123, 285,\n",
       "       439,  78, 102, 371, 265, 137, 160, 352,   5, 149, 345, 209, 112,\n",
       "       354, 376, 440,  99, 121, 118, 311, 117, 690, 230,  53, 842, 332,\n",
       "       355, 304, 250, 218, 348, 360,  20, 318, 359, 308, 197, 241, 168,\n",
       "       216, 259, 266, 120,  35, 111, 333, 367, 174, 430, 342, 167, 379,\n",
       "       223, 334,  50, 150, 347, 251,  55, 139, 515, 457, 444, 474, 255,\n",
       "       200, 357, 397, 358,  48,  37, 127, 503, 231, 303, 460, 237, 356,\n",
       "       163,  65,  27, 146, 422, 286,  79, 339, 341,  32,  21,  42, 769,\n",
       "       227, 190,   4, 225, 153, 296, 779, 344, 421, 263, 136, 199, 555,\n",
       "        70, 445, 300, 854, 253,  28,  71, 450,  85, 329,  49, 476, 302,\n",
       "       245, 192, 372, 326, 375,  66, 455, 260, 261, 336], dtype=int64)"
      ]
     },
     "execution_count": 162,
     "metadata": {},
     "output_type": "execute_result"
    }
   ],
   "source": [
    "df1['DaysPassed'].unique()"
   ]
  },
  {
   "cell_type": "code",
   "execution_count": 164,
   "metadata": {
    "ExecuteTime": {
     "end_time": "2020-11-09T21:19:09.263322Z",
     "start_time": "2020-11-09T21:19:09.245370Z"
    }
   },
   "outputs": [
    {
     "data": {
      "text/plain": [
       "[(-1.855, 141.5], (141.5, 284.0], (426.5, 569.0], (284.0, 426.5], (711.5, 854.0], (569.0, 711.5]]\n",
       "Categories (6, interval[float64]): [(-1.855, 141.5] < (141.5, 284.0] < (284.0, 426.5] < (426.5, 569.0] < (569.0, 711.5] < (711.5, 854.0]]"
      ]
     },
     "execution_count": 164,
     "metadata": {},
     "output_type": "execute_result"
    }
   ],
   "source": [
    "pd.cut(df1['DaysPassed'],6).unique()"
   ]
  },
  {
   "cell_type": "code",
   "execution_count": 166,
   "metadata": {
    "ExecuteTime": {
     "end_time": "2020-11-09T21:20:54.408262Z",
     "start_time": "2020-11-09T21:20:54.388319Z"
    }
   },
   "outputs": [],
   "source": [
    "df1.loc[df1['DaysPassed'] <= 141.5, 'DaysPassed'] = 0\n",
    "df1.loc[(df1['DaysPassed'] > 141.5) & (df1['DaysPassed'] <= 284.0), 'DaysPassed'] = 1\n",
    "df1.loc[(df1['DaysPassed'] > 284.0) & (df1['DaysPassed'] <= 426.5), 'DaysPassed'] = 2\n",
    "df1.loc[(df1['DaysPassed'] > 426.5) & (df1['DaysPassed'] <=  569.0), 'DaysPassed'] = 3\n",
    "df1.loc[(df1['DaysPassed'] > 569.0) & (df1['DaysPassed'] <=  711.5), 'DaysPassed'] = 4\n",
    "df1.loc[df1['DaysPassed'] > 711.5 , 'DaysPassed'] = 5"
   ]
  },
  {
   "cell_type": "markdown",
   "metadata": {
    "ExecuteTime": {
     "end_time": "2020-11-09T21:16:04.602898Z",
     "start_time": "2020-11-09T21:16:04.597910Z"
    }
   },
   "source": [
    "## ONE HOT ENCODING"
   ]
  },
  {
   "cell_type": "code",
   "execution_count": 158,
   "metadata": {
    "ExecuteTime": {
     "end_time": "2020-11-09T21:16:17.826550Z",
     "start_time": "2020-11-09T21:16:17.814581Z"
    }
   },
   "outputs": [],
   "source": [
    "df1 = pd.get_dummies(data = df1,columns=['Job'])"
   ]
  },
  {
   "cell_type": "markdown",
   "metadata": {
    "ExecuteTime": {
     "end_time": "2020-11-09T21:21:21.809018Z",
     "start_time": "2020-11-09T21:21:21.804033Z"
    }
   },
   "source": [
    "# EXPORT CLEANED FILES"
   ]
  },
  {
   "cell_type": "code",
   "execution_count": 174,
   "metadata": {
    "ExecuteTime": {
     "end_time": "2020-11-09T21:23:33.000369Z",
     "start_time": "2020-11-09T21:23:32.992362Z"
    }
   },
   "outputs": [],
   "source": [
    "df1.drop(['Age','LastContactDay','LastContactMonth','LastContactDay','Duration'],axis=1,inplace=True)"
   ]
  },
  {
   "cell_type": "code",
   "execution_count": 175,
   "metadata": {
    "ExecuteTime": {
     "end_time": "2020-11-09T21:23:34.229056Z",
     "start_time": "2020-11-09T21:23:34.223072Z"
    }
   },
   "outputs": [],
   "source": [
    "df2 = df1.copy()"
   ]
  },
  {
   "cell_type": "code",
   "execution_count": 172,
   "metadata": {
    "ExecuteTime": {
     "end_time": "2020-11-09T21:22:52.120616Z",
     "start_time": "2020-11-09T21:22:52.114631Z"
    }
   },
   "outputs": [],
   "source": [
    "pd.set_option('display.max_columns', 500)"
   ]
  },
  {
   "cell_type": "code",
   "execution_count": 176,
   "metadata": {
    "ExecuteTime": {
     "end_time": "2020-11-09T21:23:36.165878Z",
     "start_time": "2020-11-09T21:23:36.130976Z"
    },
    "scrolled": true
   },
   "outputs": [
    {
     "data": {
      "text/html": [
       "<div>\n",
       "<style scoped>\n",
       "    .dataframe tbody tr th:only-of-type {\n",
       "        vertical-align: middle;\n",
       "    }\n",
       "\n",
       "    .dataframe tbody tr th {\n",
       "        vertical-align: top;\n",
       "    }\n",
       "\n",
       "    .dataframe thead th {\n",
       "        text-align: right;\n",
       "    }\n",
       "</style>\n",
       "<table border=\"1\" class=\"dataframe\">\n",
       "  <thead>\n",
       "    <tr style=\"text-align: right;\">\n",
       "      <th></th>\n",
       "      <th>Id</th>\n",
       "      <th>Marital</th>\n",
       "      <th>Education</th>\n",
       "      <th>Default</th>\n",
       "      <th>Balance</th>\n",
       "      <th>HHInsurance</th>\n",
       "      <th>CarLoan</th>\n",
       "      <th>Communication</th>\n",
       "      <th>NoOfContacts</th>\n",
       "      <th>DaysPassed</th>\n",
       "      <th>PrevAttempts</th>\n",
       "      <th>Outcome</th>\n",
       "      <th>CarInsurance</th>\n",
       "      <th>age_group</th>\n",
       "      <th>duration_status</th>\n",
       "      <th>Month</th>\n",
       "      <th>Job_admin.</th>\n",
       "      <th>Job_blue-collar</th>\n",
       "      <th>Job_entrepreneur</th>\n",
       "      <th>Job_housemaid</th>\n",
       "      <th>Job_management</th>\n",
       "      <th>Job_retired</th>\n",
       "      <th>Job_self-employed</th>\n",
       "      <th>Job_services</th>\n",
       "      <th>Job_student</th>\n",
       "      <th>Job_technician</th>\n",
       "      <th>Job_unemployed</th>\n",
       "    </tr>\n",
       "  </thead>\n",
       "  <tbody>\n",
       "    <tr>\n",
       "      <th>0</th>\n",
       "      <td>1</td>\n",
       "      <td>0</td>\n",
       "      <td>3</td>\n",
       "      <td>0</td>\n",
       "      <td>0</td>\n",
       "      <td>1</td>\n",
       "      <td>0</td>\n",
       "      <td>0</td>\n",
       "      <td>2</td>\n",
       "      <td>0</td>\n",
       "      <td>0</td>\n",
       "      <td>0</td>\n",
       "      <td>0</td>\n",
       "      <td>1</td>\n",
       "      <td>0</td>\n",
       "      <td>1</td>\n",
       "      <td>0</td>\n",
       "      <td>0</td>\n",
       "      <td>0</td>\n",
       "      <td>0</td>\n",
       "      <td>1</td>\n",
       "      <td>0</td>\n",
       "      <td>0</td>\n",
       "      <td>0</td>\n",
       "      <td>0</td>\n",
       "      <td>0</td>\n",
       "      <td>0</td>\n",
       "    </tr>\n",
       "    <tr>\n",
       "      <th>1</th>\n",
       "      <td>2</td>\n",
       "      <td>1</td>\n",
       "      <td>2</td>\n",
       "      <td>0</td>\n",
       "      <td>0</td>\n",
       "      <td>1</td>\n",
       "      <td>0</td>\n",
       "      <td>1</td>\n",
       "      <td>5</td>\n",
       "      <td>0</td>\n",
       "      <td>0</td>\n",
       "      <td>0</td>\n",
       "      <td>0</td>\n",
       "      <td>1</td>\n",
       "      <td>0</td>\n",
       "      <td>5</td>\n",
       "      <td>0</td>\n",
       "      <td>1</td>\n",
       "      <td>0</td>\n",
       "      <td>0</td>\n",
       "      <td>0</td>\n",
       "      <td>0</td>\n",
       "      <td>0</td>\n",
       "      <td>0</td>\n",
       "      <td>0</td>\n",
       "      <td>0</td>\n",
       "      <td>0</td>\n",
       "    </tr>\n",
       "    <tr>\n",
       "      <th>2</th>\n",
       "      <td>3</td>\n",
       "      <td>0</td>\n",
       "      <td>3</td>\n",
       "      <td>0</td>\n",
       "      <td>0</td>\n",
       "      <td>1</td>\n",
       "      <td>0</td>\n",
       "      <td>1</td>\n",
       "      <td>1</td>\n",
       "      <td>0</td>\n",
       "      <td>1</td>\n",
       "      <td>0</td>\n",
       "      <td>1</td>\n",
       "      <td>0</td>\n",
       "      <td>0</td>\n",
       "      <td>6</td>\n",
       "      <td>0</td>\n",
       "      <td>0</td>\n",
       "      <td>0</td>\n",
       "      <td>0</td>\n",
       "      <td>1</td>\n",
       "      <td>0</td>\n",
       "      <td>0</td>\n",
       "      <td>0</td>\n",
       "      <td>0</td>\n",
       "      <td>0</td>\n",
       "      <td>0</td>\n",
       "    </tr>\n",
       "    <tr>\n",
       "      <th>3</th>\n",
       "      <td>4</td>\n",
       "      <td>0</td>\n",
       "      <td>2</td>\n",
       "      <td>0</td>\n",
       "      <td>0</td>\n",
       "      <td>1</td>\n",
       "      <td>0</td>\n",
       "      <td>1</td>\n",
       "      <td>2</td>\n",
       "      <td>0</td>\n",
       "      <td>0</td>\n",
       "      <td>0</td>\n",
       "      <td>1</td>\n",
       "      <td>0</td>\n",
       "      <td>1</td>\n",
       "      <td>5</td>\n",
       "      <td>0</td>\n",
       "      <td>0</td>\n",
       "      <td>0</td>\n",
       "      <td>0</td>\n",
       "      <td>0</td>\n",
       "      <td>0</td>\n",
       "      <td>0</td>\n",
       "      <td>0</td>\n",
       "      <td>1</td>\n",
       "      <td>0</td>\n",
       "      <td>0</td>\n",
       "    </tr>\n",
       "    <tr>\n",
       "      <th>4</th>\n",
       "      <td>5</td>\n",
       "      <td>1</td>\n",
       "      <td>3</td>\n",
       "      <td>0</td>\n",
       "      <td>1</td>\n",
       "      <td>0</td>\n",
       "      <td>0</td>\n",
       "      <td>1</td>\n",
       "      <td>1</td>\n",
       "      <td>0</td>\n",
       "      <td>0</td>\n",
       "      <td>0</td>\n",
       "      <td>0</td>\n",
       "      <td>0</td>\n",
       "      <td>0</td>\n",
       "      <td>6</td>\n",
       "      <td>0</td>\n",
       "      <td>0</td>\n",
       "      <td>0</td>\n",
       "      <td>0</td>\n",
       "      <td>1</td>\n",
       "      <td>0</td>\n",
       "      <td>0</td>\n",
       "      <td>0</td>\n",
       "      <td>0</td>\n",
       "      <td>0</td>\n",
       "      <td>0</td>\n",
       "    </tr>\n",
       "  </tbody>\n",
       "</table>\n",
       "</div>"
      ],
      "text/plain": [
       "   Id  Marital  Education  Default  Balance  HHInsurance  CarLoan  \\\n",
       "0   1        0          3        0        0            1        0   \n",
       "1   2        1          2        0        0            1        0   \n",
       "2   3        0          3        0        0            1        0   \n",
       "3   4        0          2        0        0            1        0   \n",
       "4   5        1          3        0        1            0        0   \n",
       "\n",
       "   Communication  NoOfContacts  DaysPassed  PrevAttempts  Outcome  \\\n",
       "0              0             2           0             0        0   \n",
       "1              1             5           0             0        0   \n",
       "2              1             1           0             1        0   \n",
       "3              1             2           0             0        0   \n",
       "4              1             1           0             0        0   \n",
       "\n",
       "   CarInsurance age_group  duration_status  Month  Job_admin.  \\\n",
       "0             0         1                0      1           0   \n",
       "1             0         1                0      5           0   \n",
       "2             1         0                0      6           0   \n",
       "3             1         0                1      5           0   \n",
       "4             0         0                0      6           0   \n",
       "\n",
       "   Job_blue-collar  Job_entrepreneur  Job_housemaid  Job_management  \\\n",
       "0                0                 0              0               1   \n",
       "1                1                 0              0               0   \n",
       "2                0                 0              0               1   \n",
       "3                0                 0              0               0   \n",
       "4                0                 0              0               1   \n",
       "\n",
       "   Job_retired  Job_self-employed  Job_services  Job_student  Job_technician  \\\n",
       "0            0                  0             0            0               0   \n",
       "1            0                  0             0            0               0   \n",
       "2            0                  0             0            0               0   \n",
       "3            0                  0             0            1               0   \n",
       "4            0                  0             0            0               0   \n",
       "\n",
       "   Job_unemployed  \n",
       "0               0  \n",
       "1               0  \n",
       "2               0  \n",
       "3               0  \n",
       "4               0  "
      ]
     },
     "execution_count": 176,
     "metadata": {},
     "output_type": "execute_result"
    }
   ],
   "source": [
    "df2.head()"
   ]
  },
  {
   "cell_type": "code",
   "execution_count": 177,
   "metadata": {
    "ExecuteTime": {
     "end_time": "2020-11-09T21:23:38.156558Z",
     "start_time": "2020-11-09T21:23:38.146584Z"
    }
   },
   "outputs": [
    {
     "data": {
      "text/plain": [
       "Id                   0\n",
       "Marital              0\n",
       "Education            0\n",
       "Default              0\n",
       "Balance              0\n",
       "HHInsurance          0\n",
       "CarLoan              0\n",
       "Communication        0\n",
       "NoOfContacts         0\n",
       "DaysPassed           0\n",
       "PrevAttempts         0\n",
       "Outcome              0\n",
       "CarInsurance         0\n",
       "age_group            0\n",
       "duration_status      0\n",
       "Month                0\n",
       "Job_admin.           0\n",
       "Job_blue-collar      0\n",
       "Job_entrepreneur     0\n",
       "Job_housemaid        0\n",
       "Job_management       0\n",
       "Job_retired          0\n",
       "Job_self-employed    0\n",
       "Job_services         0\n",
       "Job_student          0\n",
       "Job_technician       0\n",
       "Job_unemployed       0\n",
       "dtype: int64"
      ]
     },
     "execution_count": 177,
     "metadata": {},
     "output_type": "execute_result"
    }
   ],
   "source": [
    "df2.isnull().sum()"
   ]
  },
  {
   "cell_type": "code",
   "execution_count": 178,
   "metadata": {
    "ExecuteTime": {
     "end_time": "2020-11-09T21:23:59.412007Z",
     "start_time": "2020-11-09T21:23:59.346204Z"
    }
   },
   "outputs": [],
   "source": [
    "df2.to_csv(r'insurance_cleaned.csv')"
   ]
  },
  {
   "cell_type": "code",
   "execution_count": null,
   "metadata": {},
   "outputs": [],
   "source": []
  }
 ],
 "metadata": {
  "hide_input": false,
  "kernelspec": {
   "display_name": "Python 3",
   "language": "python",
   "name": "python3"
  },
  "language_info": {
   "codemirror_mode": {
    "name": "ipython",
    "version": 3
   },
   "file_extension": ".py",
   "mimetype": "text/x-python",
   "name": "python",
   "nbconvert_exporter": "python",
   "pygments_lexer": "ipython3",
   "version": "3.7.6"
  },
  "toc": {
   "base_numbering": 1,
   "nav_menu": {},
   "number_sections": true,
   "sideBar": true,
   "skip_h1_title": false,
   "title_cell": "Table of Contents",
   "title_sidebar": "Contents",
   "toc_cell": false,
   "toc_position": {},
   "toc_section_display": true,
   "toc_window_display": true
  },
  "varInspector": {
   "cols": {
    "lenName": 16,
    "lenType": 16,
    "lenVar": 40
   },
   "kernels_config": {
    "python": {
     "delete_cmd_postfix": "",
     "delete_cmd_prefix": "del ",
     "library": "var_list.py",
     "varRefreshCmd": "print(var_dic_list())"
    },
    "r": {
     "delete_cmd_postfix": ") ",
     "delete_cmd_prefix": "rm(",
     "library": "var_list.r",
     "varRefreshCmd": "cat(var_dic_list()) "
    }
   },
   "types_to_exclude": [
    "module",
    "function",
    "builtin_function_or_method",
    "instance",
    "_Feature"
   ],
   "window_display": false
  }
 },
 "nbformat": 4,
 "nbformat_minor": 4
}
